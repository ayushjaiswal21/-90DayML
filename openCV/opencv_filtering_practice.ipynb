{
 "cells": [
  {
   "cell_type": "markdown",
   "metadata": {},
   "source": [
    "# OpenCV Image Filtering Practice\n",
    "\n",
    "This notebook demonstrates various image filtering techniques using OpenCV:\n",
    "- Blurring filters (Averaging, Gaussian, Median)\n",
    "- Sharpening filters\n",
    "- Image comparison and saving\n",
    "\n",
    "**Note**: This notebook is adapted for Jupyter environment with matplotlib for image display instead of cv2.imshow()"
   ]
  },
  {
   "cell_type": "code",
   "execution_count": null,
   "metadata": {},
   "outputs": [],
   "source": [
    "import cv2\n",
    "import numpy as np\n",
    "import os\n",
    "import matplotlib.pyplot as plt\n",
    "from matplotlib.patches import Rectangle\n",
    "\n",
    "# Set matplotlib to display images inline\n",
    "%matplotlib inline\n",
    "\n",
    "print(f\"OpenCV Version: {cv2.__version__}\")\n",
    "print(f\"NumPy Version: {np.__version__}\")"
   ]
  },
  {
   "cell_type": "code",
   "execution_count": null,
   "metadata": {},
   "outputs": [],
   "source": [
    "# --- Configuration ---\n",
    "image_path = 'cat-cat-meme.jpg'  # Using available cat image\n",
    "output_dir = 'output_images_day62/'  # Directory to save processed images\n",
    "\n",
    "# Create output directory if it doesn't exist\n",
    "if not os.path.exists(output_dir):\n",
    "    os.makedirs(output_dir)\n",
    "    print(f\"Created output directory: {output_dir}\")\n",
    "else:\n",
    "    print(f\"Output directory already exists: {output_dir}\")"
   ]
  },
  {
   "cell_type": "code",
   "execution_count": null,
   "metadata": {},
   "outputs": [],
   "source": [
    "# Helper function to display images using matplotlib (Jupyter-friendly)\n",
    "def display_and_save(title, image, filename=None, figsize=(10, 8)):\n",
    "    \"\"\"\n",
    "    Display image using matplotlib and optionally save it\n",
    "    \"\"\"\n",
    "    plt.figure(figsize=figsize)\n",
    "    \n",
    "    # Convert BGR to RGB for matplotlib display\n",
    "    if len(image.shape) == 3:\n",
    "        image_rgb = cv2.cvtColor(image, cv2.COLOR_BGR2RGB)\n",
    "        plt.imshow(image_rgb)\n",
    "    else:\n",
    "        plt.imshow(image, cmap='gray')\n",
    "    \n",
    "    plt.title(title, fontsize=14, fontweight='bold')\n",
    "    plt.axis('off')\n",
    "    plt.tight_layout()\n",
    "    plt.show()\n",
    "    \n",
    "    if filename:\n",
    "        full_path = os.path.join(output_dir, filename)\n",
    "        cv2.imwrite(full_path, image)\n",
    "        print(f\"  Saved: {full_path}\")\n",
    "\n",
    "def display_comparison(title, img1, img2, label1=\"Original\", label2=\"Processed\", figsize=(15, 6)):\n",
    "    \"\"\"\n",
    "    Display two images side by side for comparison\n",
    "    \"\"\"\n",
    "    fig, axes = plt.subplots(1, 2, figsize=figsize)\n",
    "    \n",
    "    # Convert BGR to RGB for matplotlib display\n",
    "    if len(img1.shape) == 3:\n",
    "        img1_rgb = cv2.cvtColor(img1, cv2.COLOR_BGR2RGB)\n",
    "        img2_rgb = cv2.cvtColor(img2, cv2.COLOR_BGR2RGB)\n",
    "    else:\n",
    "        img1_rgb = img1\n",
    "        img2_rgb = img2\n",
    "    \n",
    "    axes[0].imshow(img1_rgb)\n",
    "    axes[0].set_title(label1, fontsize=12, fontweight='bold')\n",
    "    axes[0].axis('off')\n",
    "    \n",
    "    axes[1].imshow(img2_rgb)\n",
    "    axes[1].set_title(label2, fontsize=12, fontweight='bold')\n",
    "    axes[1].axis('off')\n",
    "    \n",
    "    fig.suptitle(title, fontsize=14, fontweight='bold')\n",
    "    plt.tight_layout()\n",
    "    plt.show()"
   ]
  },
  {
   "cell_type": "markdown",
   "metadata": {},
   "source": [
    "## 1. Load the Image"
   ]
  },
  {
   "cell_type": "code",
   "execution_count": null,
   "metadata": {},
   "outputs": [],
   "source": [
    "# --- 1. Load the Image ---\n",
    "img_orig = cv2.imread(image_path)\n",
    "\n",
    "if img_orig is None:\n",
    "    print(f\"Error: Could not load image from {image_path}. Please check the path and file name.\")\n",
    "    print(\"Available images in current directory:\")\n",
    "    for file in os.listdir('.'):\n",
    "        if file.lower().endswith(('.png', '.jpg', '.jpeg', '.bmp', '.tiff')):\n",
    "            print(f\"  - {file}\")\n",
    "else:\n",
    "    print(f\"Successfully loaded image: {image_path}\")\n",
    "    print(f\"\\nOriginal Image Properties:\")\n",
    "    print(f\"  Shape (Height, Width, Channels): {img_orig.shape}\")\n",
    "    print(f\"  Data Type: {img_orig.dtype}\")\n",
    "    \n",
    "    display_and_save('Original Image', img_orig)"
   ]
  },
  {
   "cell_type": "markdown",
   "metadata": {},
   "source": [
    "## 2. Blurring Filters\n",
    "\n",
    "### 2.1 Averaging Blur (cv2.blur)\n",
    "Simple box filter that replaces each pixel with the average of its neighborhood."
   ]
  },
  {
   "cell_type": "code",
   "execution_count": null,
   "metadata": {},
   "outputs": [],
   "source": [
    "print(\"--- Applying Averaging Blur Filters ---\")\n",
    "\n",
    "# 2.1 Averaging Blur (cv2.blur)\n",
    "# Kernel sizes to experiment with\n",
    "kernel_sizes_blur = [(3, 3), (7, 7), (15, 15)]\n",
    "\n",
    "for ksize in kernel_sizes_blur:\n",
    "    blurred_avg = cv2.blur(img_orig, ksize)\n",
    "    title = f'Averaging Blur (Kernel: {ksize})'\n",
    "    filename = f'blurred_avg_{ksize[0]}x{ksize[1]}.jpg'\n",
    "    \n",
    "    display_comparison(title, img_orig, blurred_avg, \"Original\", f\"Blurred {ksize}\")\n",
    "    \n",
    "    # Save the processed image\n",
    "    full_path = os.path.join(output_dir, filename)\n",
    "    cv2.imwrite(full_path, blurred_avg)\n",
    "    print(f\"Saved: {full_path}\\n\")"
   ]
  },
  {
   "cell_type": "markdown",
   "metadata": {},
   "source": [
    "### 2.2 Gaussian Blur (cv2.GaussianBlur)\n",
    "Uses a Gaussian kernel for more natural-looking blur with weighted averaging."
   ]
  },
  {
   "cell_type": "code",
   "execution_count": null,
   "metadata": {},
   "outputs": [],
   "source": [
    "print(\"--- Applying Gaussian Blur Filters ---\")\n",
    "\n",
    "# 2.2 Gaussian Blur (cv2.GaussianBlur)\n",
    "# Kernel sizes and sigmaX to experiment with\n",
    "gaussian_params = [((5, 5), 0), ((9, 9), 2), ((15, 15), 5)]  # (ksize, sigmaX)\n",
    "\n",
    "for ksize, sigmaX in gaussian_params:\n",
    "    blurred_gaussian = cv2.GaussianBlur(img_orig, ksize, sigmaX)\n",
    "    title = f'Gaussian Blur (Kernel: {ksize}, SigmaX: {sigmaX})'\n",
    "    filename = f'blurred_gaussian_{ksize[0]}x{ksize[1]}_s{sigmaX}.jpg'\n",
    "    \n",
    "    display_comparison(title, img_orig, blurred_gaussian, \"Original\", f\"Gaussian {ksize}, σ={sigmaX}\")\n",
    "    \n",
    "    # Save the processed image\n",
    "    full_path = os.path.join(output_dir, filename)\n",
    "    cv2.imwrite(full_path, blurred_gaussian)\n",
    "    print(f\"Saved: {full_path}\\n\")"
   ]
  },
  {
   "cell_type": "markdown",
   "metadata": {},
   "source": [
    "### 2.3 Median Blur (cv2.medianBlur)\n",
    "Excellent for removing salt-and-pepper noise. Let's first add some noise to demonstrate its effectiveness."
   ]
  },
  {
   "cell_type": "code",
   "execution_count": null,
   "metadata": {},
   "outputs": [],
   "source": [
    "print(\"--- Creating Noisy Image for Median Blur Demo ---\")\n",
    "\n",
    "# 2.3 Median Blur (cv2.medianBlur)\n",
    "# Good for salt-and-pepper noise; ksize must be odd\n",
    "kernel_sizes_median = [3, 5, 9]\n",
    "\n",
    "# Add some simulated salt-and-pepper noise to original image for better demo\n",
    "noisy_img = img_orig.copy()\n",
    "\n",
    "# Add salt-and-pepper noise (basic implementation for demo)\n",
    "num_salt = int(0.001 * img_orig.shape[0] * img_orig.shape[1])  # 0.1% salt noise\n",
    "coords = [np.random.randint(0, i - 1, num_salt) for i in img_orig.shape[:2]]\n",
    "noisy_img[coords[0], coords[1]] = [255, 255, 255]  # Salt (white pixels)\n",
    "\n",
    "num_pepper = int(0.001 * img_orig.shape[0] * img_orig.shape[1])  # 0.1% pepper noise\n",
    "coords = [np.random.randint(0, i - 1, num_pepper) for i in img_orig.shape[:2]]\n",
    "noisy_img[coords[0], coords[1]] = [0, 0, 0]  # Pepper (black pixels)\n",
    "\n",
    "display_comparison('Original vs Noisy Image', img_orig, noisy_img, \"Original\", \"With Salt & Pepper Noise\")\n",
    "\n",
    "# Save noisy image\n",
    "cv2.imwrite(os.path.join(output_dir, 'original_noisy.jpg'), noisy_img)\n",
    "print(f\"Saved: {os.path.join(output_dir, 'original_noisy.jpg')}\")"
   ]
  },
  {
   "cell_type": "code",
   "execution_count": null,
   "metadata": {},
   "outputs": [],
   "source": [
    "print(\"--- Applying Median Blur Filters ---\")\n",
    "\n",
    "for ksize in kernel_sizes_median:\n",
    "    blurred_median = cv2.medianBlur(noisy_img, ksize)\n",
    "    title = f'Median Blur (Kernel: {ksize})'\n",
    "    filename = f'blurred_median_{ksize}.jpg'\n",
    "    \n",
    "    display_comparison(title, noisy_img, blurred_median, \"Noisy Image\", f\"Median Blur {ksize}x{ksize}\")\n",
    "    \n",
    "    # Save the processed image\n",
    "    full_path = os.path.join(output_dir, filename)\n",
    "    cv2.imwrite(full_path, blurred_median)\n",
    "    print(f\"Saved: {full_path}\\n\")"
   ]
  },
  {
   "cell_type": "markdown",
   "metadata": {},
   "source": [
    "## 3. Sharpening Filters\n",
    "\n",
    "Using `cv2.filter2D` with custom kernels to enhance edges and details."
   ]
  },
  {
   "cell_type": "code",
   "execution_count": null,
   "metadata": {},
   "outputs": [],
   "source": [
    "print(\"--- Applying Sharpening Filter ---\")\n",
    "\n",
    "# Define a sharpening kernel\n",
    "# This kernel enhances the center pixel relative to its neighbors\n",
    "sharpen_kernel = np.array([\n",
    "    [ 0, -1,  0],\n",
    "    [-1,  5, -1],\n",
    "    [ 0, -1,  0]\n",
    "], dtype=np.float32)  # Use float32 for kernel to allow negative values\n",
    "\n",
    "print(\"Sharpening Kernel:\")\n",
    "print(sharpen_kernel)\n",
    "\n",
    "# Apply the sharpening filter\n",
    "# ddepth = -1 means the output image will have the same depth as the input\n",
    "sharpened_img = cv2.filter2D(img_orig, -1, sharpen_kernel)\n",
    "\n",
    "display_comparison('Original vs Sharpened', img_orig, sharpened_img, \"Original\", \"Sharpened\")\n",
    "\n",
    "# Save sharpened image\n",
    "cv2.imwrite(os.path.join(output_dir, 'sharpened_image.jpg'), sharpened_img)\n",
    "print(f\"Saved: {os.path.join(output_dir, 'sharpened_image.jpg')}\")"
   ]
  },
  {
   "cell_type": "markdown",
   "metadata": {},
   "source": [
    "### Alternative Sharpening Kernel\n",
    "\n",
    "Let's try a more aggressive sharpening kernel for comparison."
   ]
  },
  {
   "cell_type": "code",
   "execution_count": null,
   "metadata": {},
   "outputs": [],
   "source": [
    "# Another common sharpening kernel (more aggressive)\n",
    "sharpen_kernel_aggressive = np.array([\n",
    "    [-1, -1, -1],\n",
    "    [-1,  9, -1],\n",
    "    [-1, -1, -1]\n",
    "], dtype=np.float32)\n",
    "\n",
    "print(\"Aggressive Sharpening Kernel:\")\n",
    "print(sharpen_kernel_aggressive)\n",
    "\n",
    "# Apply the aggressive sharpening filter\n",
    "sharpened_aggressive = cv2.filter2D(img_orig, -1, sharpen_kernel_aggressive)\n",
    "\n",
    "display_comparison('Mild vs Aggressive Sharpening', sharpened_img, sharpened_aggressive, \n",
    "                  \"Mild Sharpening\", \"Aggressive Sharpening\")\n",
    "\n",
    "# Save aggressive sharpened image\n",
    "cv2.imwrite(os.path.join(output_dir, 'sharpened_aggressive.jpg'), sharpened_aggressive)\n",
    "print(f\"Saved: {os.path.join(output_dir, 'sharpened_aggressive.jpg')}\")"
   ]
  },
  {
   "cell_type": "markdown",
   "metadata": {},
   "source": [
    "## 4. Final Comparison\n",
    "\n",
    "Let's create a comprehensive comparison showing the original image alongside different processing techniques."
   ]
  },
  {
   "cell_type": "code",
   "execution_count": null,
   "metadata": {},
   "outputs": [],
   "source": [
    "# Create a comprehensive comparison\n",
    "fig, axes = plt.subplots(2, 3, figsize=(18, 12))\n",
    "\n",
    "# Convert all images to RGB for display\n",
    "img_orig_rgb = cv2.cvtColor(img_orig, cv2.COLOR_BGR2RGB)\n",
    "blurred_avg_rgb = cv2.cvtColor(cv2.blur(img_orig, (7, 7)), cv2.COLOR_BGR2RGB)\n",
    "blurred_gaussian_rgb = cv2.cvtColor(cv2.GaussianBlur(img_orig, (9, 9), 2), cv2.COLOR_BGR2RGB)\n",
    "blurred_median_rgb = cv2.cvtColor(cv2.medianBlur(noisy_img, 5), cv2.COLOR_BGR2RGB)\n",
    "sharpened_rgb = cv2.cvtColor(sharpened_img, cv2.COLOR_BGR2RGB)\n",
    "noisy_rgb = cv2.cvtColor(noisy_img, cv2.COLOR_BGR2RGB)\n",
    "\n",
    "# Display images\n",
    "axes[0, 0].imshow(img_orig_rgb)\n",
    "axes[0, 0].set_title('Original Image', fontweight='bold')\n",
    "axes[0, 0].axis('off')\n",
    "\n",
    "axes[0, 1].imshow(blurred_avg_rgb)\n",
    "axes[0, 1].set_title('Averaging Blur (7x7)', fontweight='bold')\n",
    "axes[0, 1].axis('off')\n",
    "\n",
    "axes[0, 2].imshow(blurred_gaussian_rgb)\n",
    "axes[0, 2].set_title('Gaussian Blur (9x9, σ=2)', fontweight='bold')\n",
    "axes[0, 2].axis('off')\n",
    "\n",
    "axes[1, 0].imshow(noisy_rgb)\n",
    "axes[1, 0].set_title('With Salt & Pepper Noise', fontweight='bold')\n",
    "axes[1, 0].axis('off')\n",
    "\n",
    "axes[1, 1].imshow(blurred_median_rgb)\n",
    "axes[1, 1].set_title('Median Blur (5x5)', fontweight='bold')\n",
    "axes[1, 1].axis('off')\n",
    "\n",
    "axes[1, 2].imshow(sharpened_rgb)\n",
    "axes[1, 2].set_title('Sharpened Image', fontweight='bold')\n",
    "axes[1, 2].axis('off')\n",
    "\n",
    "plt.suptitle('OpenCV Image Filtering Techniques Comparison', fontsize=16, fontweight='bold')\n",
    "plt.tight_layout()\n",
    "plt.show()\n",
    "\n",
    "print(\"\\n--- All image filtering tasks demonstrated successfully! ---\")\n",
    "print(f\"All processed images have been saved to: {output_dir}\")"
   ]
  },
  {
   "cell_type": "markdown",
   "metadata": {},
   "source": [
    "## Summary\n",
    "\n",
    "This notebook demonstrated various OpenCV image filtering techniques:\n",
    "\n",
    "1. **Averaging Blur**: Simple box filter for basic smoothing\n",
    "2. **Gaussian Blur**: Weighted averaging with Gaussian kernel for natural-looking blur\n",
    "3. **Median Blur**: Excellent for removing salt-and-pepper noise\n",
    "4. **Sharpening Filters**: Custom kernels to enhance edges and details\n",
    "\n",
    "### Key Takeaways:\n",
    "- Different blur techniques serve different purposes\n",
    "- Kernel size affects the intensity of the effect\n",
    "- Median blur is particularly effective for noise removal\n",
    "- Sharpening can enhance details but may also amplify noise\n",
    "\n",
    "### Next Steps:\n",
    "Try experimenting with:\n",
    "- Different kernel sizes\n",
    "- Custom kernels for edge detection\n",
    "- Combining multiple filters\n",
    "- Different input images (try changing `image_path` to 'dog.jpg')"
   ]
  }
 ],
 "metadata": {
  "kernelspec": {
   "display_name": "Python 3",
   "language": "python",
   "name": "python3"
  },
  "language_info": {
   "codemirror_mode": {
    "name": "ipython",
    "version": 3
   },
   "file_extension": ".py",
   "mimetype": "text/x-python",
   "name": "python",
   "nbconvert_exporter": "python",
   "pygments_lexer": "ipython3",
   "version": "3.8.5"
  }
 },
 "nbformat": 4,
 "nbformat_minor": 4
}
