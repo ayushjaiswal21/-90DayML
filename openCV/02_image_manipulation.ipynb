{
 "cells": [
  {
   "cell_type": "markdown",
   "metadata": {},
   "source": [
    "# OpenCV Image Manipulation Tutorial\n",
    "\n",
    "This notebook demonstrates basic image manipulation operations using OpenCV:\n",
    "- Loading and displaying images\n",
    "- Resizing images (fixed size and scaling)\n",
    "- Cropping images\n",
    "- Color space conversions\n",
    "\n",
    "**Important:** Make sure to update the `image_path` variable below to point to your actual image file."
   ]
  },
  {
   "cell_type": "code",
   "execution_count": null,
   "metadata": {},
   "outputs": [],
   "source": [
    "import cv2\n",
    "import numpy as np\n",
    "import os\n",
    "from IPython.display import display, Image\n",
    "import matplotlib.pyplot as plt\n",
    "\n",
    "# Display images inline in Jupyter\n",
    "%matplotlib inline"
   ]
  },
  {
   "cell_type": "code",
   "execution_count": null,
   "metadata": {},
   "outputs": [],
   "source": [
    "# --- Configuration ---\n",
    "image_path = 'sample_image.jpg'  # <<<<<<< IMPORTANT: Change this to your image file\n",
    "output_dir = 'output_images/'    # Directory to save processed images\n",
    "\n",
    "# Create output directory if it doesn't exist\n",
    "if not os.path.exists(output_dir):\n",
    "    os.makedirs(output_dir)\n",
    "\n",
    "print(f\"OpenCV Version: {cv2.__version__}\")\n",
    "print(f\"NumPy Version: {np.__version__}\")"
   ]
  },
  {
   "cell_type": "markdown",
   "metadata": {},
   "source": [
    "## 1. Load and Display the Image"
   ]
  },
  {
   "cell_type": "code",
   "execution_count": null,
   "metadata": {},
   "outputs": [],
   "source": [
    "# --- 1. Load the Image ---\n",
    "img = cv2.imread(image_path)\n",
    "\n",
    "if img is None:\n",
    "    print(f\"Error: Could not load image from {image_path}. Please check the path and file name.\")\n",
    "    # Don't exit in Jupyter, just show error\n",
    "else:\n",
    "    print(f\"\\nOriginal Image Properties:\")\n",
    "    print(f\"  Shape (Height, Width, Channels): {img.shape}\")\n",
    "    print(f\"  Data Type: {img.dtype}\")\n",
    "    print(f\"  Size (Total Pixels): {img.size}\")\n",
    "    \n",
    "    # Convert BGR to RGB for proper display in Jupyter\n",
    "    img_rgb = cv2.cvtColor(img, cv2.COLOR_BGR2RGB)\n",
    "    plt.figure(figsize=(10, 6))\n",
    "    plt.imshow(img_rgb)\n",
    "    plt.title('Original Image')\n",
    "    plt.axis('off')\n",
    "    plt.show()"
   ]
  },
  {
   "cell_type": "markdown",
   "metadata": {},
   "source": [
    "## 2. Resizing Images"
   ]
  },
  {
   "cell_type": "code",
   "execution_count": null,
   "metadata": {},
   "outputs": [],
   "source": [
    "# --- 2. Resizing Images ---\n",
    "if img is not None:\n",
    "    # 2.1 Resize to a fixed size (e.g., 300x200 pixels)\n",
    "    new_width_fixed, new_height_fixed = 300, 200\n",
    "    resized_fixed = cv2.resize(img, (new_width_fixed, new_height_fixed), interpolation=cv2.INTER_AREA)\n",
    "    # INTER_AREA is generally preferred for shrinking an image\n",
    "\n",
    "    print(f\"\\nResized to Fixed Size ({new_width_fixed}x{new_height_fixed}) Properties:\")\n",
    "    print(f\"  Shape: {resized_fixed.shape}\")\n",
    "    \n",
    "    # Save and display\n",
    "    cv2.imwrite(os.path.join(output_dir, 'resized_fixed.jpg'), resized_fixed)\n",
    "    print(f\"  Saved: {os.path.join(output_dir, 'resized_fixed.jpg')}\")\n",
    "    \n",
    "    # Display in Jupyter\n",
    "    resized_fixed_rgb = cv2.cvtColor(resized_fixed, cv2.COLOR_BGR2RGB)\n",
    "    plt.figure(figsize=(8, 5))\n",
    "    plt.imshow(resized_fixed_rgb)\n",
    "    plt.title(f'Resized to {new_width_fixed}x{new_height_fixed} (INTER_AREA)')\n",
    "    plt.axis('off')\n",
    "    plt.show()"
   ]
  },
  {
   "cell_type": "code",
   "execution_count": null,
   "metadata": {},
   "outputs": [],
   "source": [
    "if img is not None:\n",
    "    # 2.2 Resize by a scaling factor (e.g., half size)\n",
    "    scale_factor = 0.5\n",
    "    resized_half = cv2.resize(img, (0, 0), fx=scale_factor, fy=scale_factor, interpolation=cv2.INTER_LINEAR)\n",
    "    # INTER_LINEAR is good for general scaling\n",
    "    \n",
    "    print(f\"\\nResized to Half Size (Scale Factor: {scale_factor}) Properties:\")\n",
    "    print(f\"  Shape: {resized_half.shape}\")\n",
    "    \n",
    "    cv2.imwrite(os.path.join(output_dir, 'resized_half.jpg'), resized_half)\n",
    "    print(f\"  Saved: {os.path.join(output_dir, 'resized_half.jpg')}\")\n",
    "    \n",
    "    # Display in Jupyter\n",
    "    resized_half_rgb = cv2.cvtColor(resized_half, cv2.COLOR_BGR2RGB)\n",
    "    plt.figure(figsize=(8, 5))\n",
    "    plt.imshow(resized_half_rgb)\n",
    "    plt.title(f'Resized to Half Size (Scale Factor {scale_factor})')\n",
    "    plt.axis('off')\n",
    "    plt.show()"
   ]
  },
  {
   "cell_type": "code",
   "execution_count": null,
   "metadata": {},
   "outputs": [],
   "source": [
    "if img is not None:\n",
    "    # 2.3 Resize by a scaling factor (e.g., double size)\n",
    "    scale_factor_double = 2.0\n",
    "    resized_double = cv2.resize(img, (0, 0), fx=scale_factor_double, fy=scale_factor_double, interpolation=cv2.INTER_CUBIC)\n",
    "    # INTER_CUBIC is good for enlarging an image (slower but higher quality)\n",
    "    \n",
    "    print(f\"\\nResized to Double Size (Scale Factor: {scale_factor_double}) Properties:\")\n",
    "    print(f\"  Shape: {resized_double.shape}\")\n",
    "    \n",
    "    cv2.imwrite(os.path.join(output_dir, 'resized_double.jpg'), resized_double)\n",
    "    print(f\"  Saved: {os.path.join(output_dir, 'resized_double.jpg')}\")\n",
    "    \n",
    "    # Display in Jupyter (might be large, so we'll show a smaller version)\n",
    "    resized_double_rgb = cv2.cvtColor(resized_double, cv2.COLOR_BGR2RGB)\n",
    "    plt.figure(figsize=(12, 8))\n",
    "    plt.imshow(resized_double_rgb)\n",
    "    plt.title(f'Resized to Double Size (Scale Factor {scale_factor_double})')\n",
    "    plt.axis('off')\n",
    "    plt.show()"
   ]
  },
  {
   "cell_type": "markdown",
   "metadata": {},
   "source": [
    "## 3. Cropping Images"
   ]
  },
  {
   "cell_type": "code",
   "execution_count": null,
   "metadata": {},
   "outputs": [],
   "source": [
    "# --- 3. Cropping Images (using NumPy slicing) ---\n",
    "if img is not None:\n",
    "    # Define the region of interest (ROI) - [startY:endY, startX:endX]\n",
    "    # Example: crop a 100x150 region starting from row 50, col 100\n",
    "    start_row, end_row = 50, 200  # Rows 50 to 199\n",
    "    start_col, end_col = 100, 250  # Columns 100 to 249\n",
    "\n",
    "    # Ensure the crop coordinates are within image bounds\n",
    "    height, width = img.shape[:2]\n",
    "    if start_row >= height or end_row > height or start_col >= width or end_col > width:\n",
    "        print(\"\\nWarning: Crop coordinates are out of image bounds. Skipping cropping example.\")\n",
    "    else:\n",
    "        cropped_img = img[start_row:end_row, start_col:end_col]\n",
    "\n",
    "        print(f\"\\nCropped Image Properties:\")\n",
    "        print(f\"  Shape: {cropped_img.shape}\")\n",
    "        \n",
    "        cv2.imwrite(os.path.join(output_dir, 'cropped_image.jpg'), cropped_img)\n",
    "        print(f\"  Saved: {os.path.join(output_dir, 'cropped_image.jpg')}\")\n",
    "        \n",
    "        # Display in Jupyter\n",
    "        cropped_img_rgb = cv2.cvtColor(cropped_img, cv2.COLOR_BGR2RGB)\n",
    "        plt.figure(figsize=(8, 5))\n",
    "        plt.imshow(cropped_img_rgb)\n",
    "        plt.title('Cropped Image')\n",
    "        plt.axis('off')\n",
    "        plt.show()"
   ]
  },
  {
   "cell_type": "markdown",
   "metadata": {},
   "source": [
    "## 4. Color Conversions"
   ]
  },
  {
   "cell_type": "code",
   "execution_count": null,
   "metadata": {},
   "outputs": [],
   "source": [
    "# --- 4. Color Conversions ---\n",
    "if img is not None:\n",
    "    # 4.1 Convert to Grayscale\n",
    "    gray_img = cv2.cvtColor(img, cv2.COLOR_BGR2GRAY)\n",
    "    print(f\"\\nGrayscale Image Properties:\")\n",
    "    print(f\"  Shape: {gray_img.shape}\")  # No channel dimension for grayscale\n",
    "    \n",
    "    cv2.imwrite(os.path.join(output_dir, 'grayscale_image.jpg'), gray_img)\n",
    "    print(f\"  Saved: {os.path.join(output_dir, 'grayscale_image.jpg')}\")\n",
    "    \n",
    "    # Display in Jupyter\n",
    "    plt.figure(figsize=(10, 6))\n",
    "    plt.imshow(gray_img, cmap='gray')\n",
    "    plt.title('Grayscale Image')\n",
    "    plt.axis('off')\n",
    "    plt.show()"
   ]
  },
  {
   "cell_type": "code",
   "execution_count": null,
   "metadata": {},
   "outputs": [],
   "source": [
    "if img is not None:\n",
    "    # 4.2 Convert to HSV (Hue, Saturation, Value)\n",
    "    hsv_img = cv2.cvtColor(img, cv2.COLOR_BGR2HSV)\n",
    "    print(f\"\\nHSV Image Properties:\")\n",
    "    print(f\"  Shape: {hsv_img.shape}\")\n",
    "    \n",
    "    cv2.imwrite(os.path.join(output_dir, 'hsv_image.jpg'), hsv_img)\n",
    "    print(f\"  Saved: {os.path.join(output_dir, 'hsv_image.jpg')}\")\n",
    "    \n",
    "    # Display in Jupyter (HSV looks different from original - that's expected!)\n",
    "    plt.figure(figsize=(10, 6))\n",
    "    plt.imshow(hsv_img)\n",
    "    plt.title('HSV Image (Looks different from original - that\\'s expected!)')\n",
    "    plt.axis('off')\n",
    "    plt.show()"
   ]
  },
  {
   "cell_type": "code",
   "execution_count": null,
   "metadata": {},
   "outputs": [],
   "source": [
    "if img is not None:\n",
    "    # 4.3 Convert back from HSV to BGR (to verify)\n",
    "    bgr_from_hsv = cv2.cvtColor(hsv_img, cv2.COLOR_HSV2BGR)\n",
    "    print(f\"\\nBGR from HSV Properties:\")\n",
    "    print(f\"  Shape: {bgr_from_hsv.shape}\")\n",
    "    \n",
    "    cv2.imwrite(os.path.join(output_dir, 'bgr_from_hsv.jpg'), bgr_from_hsv)\n",
    "    print(f\"  Saved: {os.path.join(output_dir, 'bgr_from_hsv.jpg')}\")\n",
    "    \n",
    "    # Display in Jupyter\n",
    "    bgr_from_hsv_rgb = cv2.cvtColor(bgr_from_hsv, cv2.COLOR_BGR2RGB)\n",
    "    plt.figure(figsize=(10, 6))\n",
    "    plt.imshow(bgr_from_hsv_rgb)\n",
    "    plt.title('BGR from HSV (Should look like original)')\n",
    "    plt.axis('off')\n",
    "    plt.show()\n",
    "\n",
    "print(\"\\n--- All image manipulations demonstrated. Notebook finished. ---\")"
   ]
  },
  {
   "cell_type": "markdown",
   "metadata": {},
   "source": [
    "## Summary\n",
    "\n",
    "This notebook demonstrated:\n",
    "1. **Loading images** with `cv2.imread()`\n",
    "2. **Resizing images** using different methods:\n",
    "   - Fixed size with `cv2.resize()`\n",
    "   - Scaling factors with `fx` and `fy` parameters\n",
    "   - Different interpolation methods (INTER_AREA, INTER_LINEAR, INTER_CUBIC)\n",
    "3. **Cropping images** using NumPy array slicing\n",
    "4. **Color space conversions**:\n",
    "   - BGR to Grayscale\n",
    "   - BGR to HSV\n",
    "   - HSV back to BGR\n",
    "\n",
    "**Next Steps:**\n",
    "- Try with your own images by updating the `image_path` variable\n",
    "- Experiment with different resize dimensions and scaling factors\n",
    "- Try different crop regions\n",
    "- Explore other color spaces like LAB, YUV, etc."
   ]
  }
 ],
 "metadata": {
  "kernelspec": {
   "display_name": "Python 3",
   "language": "python",
   "name": "python3"
  },
  "language_info": {
   "codemirror_mode": {
    "name": "ipython",
    "version": 3
   },
   "file_extension": ".py",
   "mimetype": "text/x-python",
   "name": "python",
   "nbconvert_exporter": "python",
   "pygments_lexer": "ipython3",
   "version": "3.8.0"
  }
 },
 "nbformat": 4,
 "nbformat_minor": 4
}
