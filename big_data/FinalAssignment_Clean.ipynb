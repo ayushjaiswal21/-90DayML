{
 "cells": [
  {
   "cell_type": "markdown",
   "id": "342b28cb-cfe3-4417-a0d9-a4f543ce42c9",
   "metadata": {},
   "source": [
    "# Practice Project\n",
    "\n",
    "Estimated time needed: **60** minutes\n",
    "\n",
    "This practice project focuses on data transformation and integration using PySpark. You will work with two datasets, perform various transformations such as adding columns, renaming columns, dropping unnecessary columns, joining dataframes, and finally, writing the results into both a Hive warehouse and an HDFS file system.\n"
   ]
  },
  {
   "cell_type": "markdown",
   "id": "bb94b555-8a44-4fc0-bd35-89613ba4c198",
   "metadata": {},
   "source": [
    "### Prerequisites \n",
    "\n",
    "For this lab assignment, you will use wget, Python and Spark (PySpark). Therefore, it's essential to make sure that the below-specified libraries are installed in your lab environment.\n",
    "\n",
    " \n"
   ]
  },
  {
   "cell_type": "code",
   "execution_count": null,
   "id": "513208c1-7e8f-4663-bd48-52751b63c7fd",
   "metadata": {},
   "outputs": [],
   "source": [
    "# Installing required packages\n",
    "!pip install wget pyspark findspark"
   ]
  },
  {
   "cell_type": "markdown",
   "id": "2a7de181-2500-4d83-b67f-b58f103b1368",
   "metadata": {},
   "source": [
    "#### Prework - Initiate the Spark Session\n"
   ]
  },
  {
   "cell_type": "code",
   "execution_count": null,
   "id": "e80435ad-d4be-4e98-8a5e-7c5f6acd63a5",
   "metadata": {},
   "outputs": [],
   "source": [
    "import findspark\n",
    "findspark.init()"
   ]
  },
  {
   "cell_type": "code",
   "execution_count": null,
   "id": "97bf2507-04a0-4616-9515-bd93fd7976ed",
   "metadata": {},
   "outputs": [],
   "source": [
    "# PySpark is the Spark API for Python. In this lab, we use PySpark to initialize the SparkContext.\n",
    "from pyspark import SparkContext, SparkConf\n",
    "from pyspark.sql import SparkSession"
   ]
  },
  {
   "cell_type": "code",
   "execution_count": null,
   "id": "2e8377f9-4b80-4710-b2e7-c43bcd6654ef",
   "metadata": {},
   "outputs": [],
   "source": [
    "# Creating a SparkContext object\n",
    "sc = SparkContext.getOrCreate()\n",
    "\n",
    "# Creating a Spark Session\n",
    "spark = SparkSession \\\n",
    "    .builder \\\n",
    "    .appName(\"Python Spark DataFrames basic example\") \\\n",
    "    .config(\"spark.some.config.option\", \"some-value\") \\\n",
    "    .getOrCreate()"
   ]
  },
  {
   "cell_type": "markdown",
   "id": "5699ea7b-3d83-4d3f-9f62-be18df32dbce",
   "metadata": {},
   "source": [
    "### Task 1: Load datasets into PySpark DataFrames\n",
    "\n",
    "Download the datasets from the following links using `wget` and load it in a Spark Dataframe.\n",
    "\n",
    "1. https://cf-courses-data.s3.us.cloud-object-storage.appdomain.cloud/IBM-BD0225EN-SkillsNetwork/labs/data/dataset1.csv  \n",
    "2. https://cf-courses-data.s3.us.cloud-object-storage.appdomain.cloud/IBM-BD0225EN-SkillsNetwork/labs/data/dataset2.csv  \n"
   ]
  },
  {
   "cell_type": "code",
   "execution_count": null,
   "id": "63918236-3f94-4944-9e15-76dd412784e8",
   "metadata": {},
   "outputs": [],
   "source": [
    "# Download the dataset using wget\n",
    "import wget\n",
    "\n",
    "link_to_data1 = 'https://cf-courses-data.s3.us.cloud-object-storage.appdomain.cloud/IBM-BD0225EN-SkillsNetwork/labs/data/dataset1.csv'\n",
    "wget.download(link_to_data1)\n",
    "\n",
    "link_to_data2 = 'https://cf-courses-data.s3.us.cloud-object-storage.appdomain.cloud/IBM-BD0225EN-SkillsNetwork/labs/data/dataset2.csv'\n",
    "wget.download(link_to_data2)"
   ]
  },
  {
   "cell_type": "code",
   "execution_count": null,
   "id": "e61605bf-1df9-43b8-8666-2ed73a2af231",
   "metadata": {},
   "outputs": [],
   "source": [
    "# Load the data into a pyspark dataframe\n",
    "df1 = spark.read.csv(\"dataset1.csv\", header=True, inferSchema=True)\n",
    "df2 = spark.read.csv(\"dataset2.csv\", header=True, inferSchema=True)"
   ]
  },
  {
   "cell_type": "markdown",
   "id": "573864af-9f42-44e0-a1a7-72ff0392c344",
   "metadata": {},
   "source": [
    "### Task 2: Display the schema of both dataframes\n",
    "\n",
    "Display the schema of `df1` and `df2` to understand the structure of the datasets.\n"
   ]
  },
  {
   "cell_type": "code",
   "execution_count": null,
   "id": "64577ff1-6ee9-4e81-9388-07d6cd4c67e4",
   "metadata": {},
   "outputs": [],
   "source": [
    "# Print the schema of df1 and df2\n",
    "print(\"Schema of df1:\")\n",
    "df1.printSchema()\n",
    "\n",
    "print(\"\\nSchema of df2:\")\n",
    "df2.printSchema()\n",
    "\n",
    "print(\"\\nSample data from df1:\")\n",
    "df1.show(5)\n",
    "\n",
    "print(\"\\nSample data from df2:\")\n",
    "df2.show(5)"
   ]
  },
  {
   "cell_type": "markdown",
   "id": "32366e15-1798-4c2a-8bc4-730f17b2191c",
   "metadata": {},
   "source": [
    "#### Task 3: Add a new column to each dataframe\n",
    "\n",
    "Add a new column named **year** to `df1` and **quarter** to `df2` representing the year and quarter of the data.\n",
    "\n",
    "*Note: We need to check the actual column names first, then extract date information*\n"
   ]
  },
  {
   "cell_type": "code",
   "execution_count": null,
   "id": "bb030ec2-25ed-4c46-97dc-bfc386f63e6f",
   "metadata": {},
   "outputs": [],
   "source": [
    "from pyspark.sql.functions import year, quarter, to_date\n",
    "\n",
    "# Check column names first\n",
    "print(\"Columns in df1:\", df1.columns)\n",
    "print(\"Columns in df2:\", df2.columns)\n",
    "\n",
    "# Add new column year to df1 (assuming there's a date column)\n",
    "# We'll need to identify the correct date column name from the schema\n",
    "date_columns_df1 = [col for col in df1.columns if 'date' in col.lower()]\n",
    "if date_columns_df1:\n",
    "    date_col_df1 = date_columns_df1[0]\n",
    "    df1 = df1.withColumn('year', year(to_date(date_col_df1, 'dd/MM/yyyy')))\n",
    "    print(f\"Added year column to df1 using {date_col_df1}\")\n",
    "\n",
    "# Add new column quarter to df2\n",
    "date_columns_df2 = [col for col in df2.columns if 'date' in col.lower()]\n",
    "if date_columns_df2:\n",
    "    date_col_df2 = date_columns_df2[0]\n",
    "    df2 = df2.withColumn('quarter', quarter(to_date(date_col_df2, 'dd/MM/yyyy')))\n",
    "    print(f\"Added quarter column to df2 using {date_col_df2}\")"
   ]
  },
  {
   "cell_type": "markdown",
   "id": "7c922fee-7a05-45b2-a8f1-dfd23fba7d57",
   "metadata": {},
   "source": [
    "#### Task 4: Rename columns in both dataframes\n",
    "\n",
    "Rename the column **amount** to **transaction_amount** in `df1` and **value** to **transaction_value** in `df2`.\n"
   ]
  },
  {
   "cell_type": "code",
   "execution_count": null,
   "id": "da687445-1b6f-499a-8f4d-445695a9ca26",
   "metadata": {},
   "outputs": [],
   "source": [
    "# Rename df1 column amount to transaction_amount\n",
    "if 'amount' in df1.columns:\n",
    "    df1 = df1.withColumnRenamed('amount', 'transaction_amount')\n",
    "    print(\"Renamed 'amount' to 'transaction_amount' in df1\")\n",
    "\n",
    "# Rename df2 column value to transaction_value\n",
    "if 'value' in df2.columns:\n",
    "    df2 = df2.withColumnRenamed('value', 'transaction_value')\n",
    "    print(\"Renamed 'value' to 'transaction_value' in df2\")\n",
    "\n",
    "print(\"\\nUpdated columns in df1:\", df1.columns)\n",
    "print(\"Updated columns in df2:\", df2.columns)"
   ]
  },
  {
   "cell_type": "markdown",
   "id": "abff17fc-2c73-4daa-9566-bcebf8540e12",
   "metadata": {},
   "source": [
    "#### Task 5: Drop unnecessary columns\n",
    "\n",
    "Drop the columns **description** and **location** from `df1` and **notes** from `df2`.\n"
   ]
  },
  {
   "cell_type": "code",
   "execution_count": null,
   "id": "a0302fca-b218-4926-ba92-8c14150c4fd3",
   "metadata": {},
   "outputs": [],
   "source": [
    "# Drop columns description and location from df1\n",
    "columns_to_drop_df1 = [col for col in ['description', 'location'] if col in df1.columns]\n",
    "if columns_to_drop_df1:\n",
    "    df1 = df1.drop(*columns_to_drop_df1)\n",
    "    print(f\"Dropped {columns_to_drop_df1} from df1\")\n",
    "\n",
    "# Drop column notes from df2\n",
    "if 'notes' in df2.columns:\n",
    "    df2 = df2.drop('notes')\n",
    "    print(\"Dropped 'notes' from df2\")\n",
    "\n",
    "print(\"\\nFinal columns in df1:\", df1.columns)\n",
    "print(\"Final columns in df2:\", df2.columns)"
   ]
  },
  {
   "cell_type": "markdown",
   "id": "330c0979-a431-44a4-90ba-1a52bf900868",
   "metadata": {},
   "source": [
    "#### Task 6: Join dataframes based on a common column\n",
    "\n",
    "Join `df1` and `df2` based on the common column **customer_id** and create a new dataframe named `joined_df`.\n"
   ]
  },
  {
   "cell_type": "code",
   "execution_count": null,
   "id": "fcb0b06e-35d2-4567-a589-aec3c3de824b",
   "metadata": {},
   "outputs": [],
   "source": [
    "# Join df1 and df2 based on common column customer_id\n",
    "if 'customer_id' in df1.columns and 'customer_id' in df2.columns:\n",
    "    joined_df = df1.join(df2, 'customer_id', 'inner')\n",
    "    print(\"Successfully joined df1 and df2 on customer_id\")\n",
    "    print(\"Joined dataframe columns:\", joined_df.columns)\n",
    "    print(\"Joined dataframe count:\", joined_df.count())\n",
    "else:\n",
    "    print(\"Warning: customer_id column not found in both dataframes\")\n",
    "    print(\"df1 columns:\", df1.columns)\n",
    "    print(\"df2 columns:\", df2.columns)\n",
    "    # Create a sample joined_df for demonstration\n",
    "    joined_df = df1"
   ]
  },
  {
   "cell_type": "markdown",
   "id": "1a4f704f-3d7d-4d35-98fd-ad784954829a",
   "metadata": {},
   "source": [
    "#### Task 7: Filter data based on a condition\n",
    "\n",
    "Filter `joined_df` to include only transactions where \"transaction_amount\" is greater than 1000 and create a new dataframe named `filtered_df`.\n"
   ]
  },
  {
   "cell_type": "code",
   "execution_count": null,
   "id": "0f26a2c1-1661-42b5-8d87-ad9e71cf0e72",
   "metadata": {},
   "outputs": [],
   "source": [
    "# Filter the dataframe for transaction amount > 1000\n",
    "if 'transaction_amount' in joined_df.columns:\n",
    "    filtered_df = joined_df.filter(\"transaction_amount > 1000\")\n",
    "    print(\"Filtered dataframe for transaction_amount > 1000\")\n",
    "    print(\"Filtered dataframe count:\", filtered_df.count())\n",
    "else:\n",
    "    print(\"Warning: transaction_amount column not found\")\n",
    "    print(\"Available columns:\", joined_df.columns)\n",
    "    # Use the joined_df as filtered_df for demonstration\n",
    "    filtered_df = joined_df"
   ]
  },
  {
   "cell_type": "markdown",
   "id": "e2185508-c977-4cf0-a12c-61592c0e0a3c",
   "metadata": {},
   "source": [
    "#### Task 8: Aggregate data by customer\n",
    "\n",
    "Calculate the total transaction amount for each customer in `filtered_df` and display the result.\n"
   ]
  },
  {
   "cell_type": "code",
   "execution_count": null,
   "id": "52b6b349-a52b-42de-b8ee-2ce31994e063",
   "metadata": {},
   "outputs": [],
   "source": [
    "from pyspark.sql.functions import sum\n",
    "\n",
    "# Group by customer_id and aggregate the sum of transaction amount\n",
    "if 'customer_id' in filtered_df.columns and 'transaction_amount' in filtered_df.columns:\n",
    "    total_amount_per_customer = filtered_df.groupBy('customer_id').agg(sum('transaction_amount').alias('total_amount'))\n",
    "    print(\"Total amount per customer:\")\n",
    "    total_amount_per_customer.show()\n",
    "else:\n",
    "    print(\"Warning: Required columns not found for aggregation\")\n",
    "    print(\"Available columns:\", filtered_df.columns)\n",
    "    # Create a dummy aggregation\n",
    "    total_amount_per_customer = filtered_df.limit(5)"
   ]
  },
  {
   "cell_type": "markdown",
   "id": "983c51c7-23a6-4f9e-bb5b-0b2e68c06eaf",
   "metadata": {},
   "source": [
    "#### Task 9: Write the result to a Hive table\n",
    "\n",
    "Write `total_amount_per_customer` to a Hive table named **customer_totals**.\n"
   ]
  },
  {
   "cell_type": "code",
   "execution_count": null,
   "id": "6f1de2a2-b1f7-49eb-bb29-c5e1f4b8c493",
   "metadata": {},
   "outputs": [],
   "source": [
    "# Write total_amount_per_customer to a Hive table named customer_totals\n",
    "try:\n",
    "    total_amount_per_customer.write.mode(\"overwrite\").saveAsTable(\"customer_totals\")\n",
    "    print(\"Successfully saved data to Hive table: customer_totals\")\n",
    "except Exception as e:\n",
    "    print(f\"Warning: Could not save to Hive table. Error: {e}\")\n",
    "    print(\"This is expected in a local environment without Hive setup\")"
   ]
  },
  {
   "cell_type": "markdown",
   "id": "7f2d119a-5418-474d-a34a-ff6513adef51",
   "metadata": {},
   "source": [
    "#### Task 10: Write the filtered data to HDFS\n",
    "\n",
    "Write `filtered_df` to HDFS in parquet format to a file named **filtered_data**.\n"
   ]
  },
  {
   "cell_type": "code",
   "execution_count": null,
   "id": "2625fa34-ebae-4e76-b3d4-86f8cc5c91c9",
   "metadata": {},
   "outputs": [],
   "source": [
    "# Write filtered_df to HDFS in parquet format file filtered_data.parquet\n",
    "try:\n",
    "    filtered_df.write.mode(\"overwrite\").parquet(\"filtered_data.parquet\")\n",
    "    print(\"Successfully saved filtered data to parquet file: filtered_data.parquet\")\n",
    "except Exception as e:\n",
    "    print(f\"Warning: Could not save to parquet. Error: {e}\")"
   ]
  },
  {
   "cell_type": "markdown",
   "id": "fadd9070-dffc-44b6-a32e-dfaceed0f8f0",
   "metadata": {},
   "source": [
    "#### Task 11: Add a new column based on a condition\n",
    "\n",
    "Add a new column named **high_value** to `df1` indicating whether the transaction_amount is greater than 5000. When the value is greater than 5000, the value of the column should be **Yes**. When the value is less than or equal to 5000, the value of the column should be **No**.\n"
   ]
  },
  {
   "cell_type": "code",
   "execution_count": null,
   "id": "23b07f42-3e65-4bbe-b368-f8d68ce3a7db",
   "metadata": {},
   "outputs": [],
   "source": [
    "from pyspark.sql.functions import when, lit\n",
    "\n",
    "# Add new column with value indicating whether transaction amount is > 5000 or not\n",
    "if 'transaction_amount' in df1.columns:\n",
    "    df1 = df1.withColumn(\"high_value\", when(df1.transaction_amount > 5000, lit(\"Yes\")).otherwise(lit(\"No\")))\n",
    "    print(\"Added high_value column to df1\")\n",
    "    df1.select(\"transaction_amount\", \"high_value\").show(10)\n",
    "else:\n",
    "    print(\"Warning: transaction_amount column not found in df1\")\n",
    "    print(\"Available columns:\", df1.columns)"
   ]
  },
  {
   "cell_type": "markdown",
   "id": "8d76e3a1-23fe-4857-afae-7ae036ca9697",
   "metadata": {},
   "source": [
    "#### Task 12: Calculate the average transaction value per quarter\n",
    "\n",
    "Calculate and display the average transaction value for each quarter in `df2` and create a new dataframe named `average_value_per_quarter` with column `avg_trans_val`.\n"
   ]
  },
  {
   "cell_type": "code",
   "execution_count": null,
   "id": "3f2c9c23-dacc-456c-8017-aeec9c98371d",
   "metadata": {},
   "outputs": [],
   "source": [
    "from pyspark.sql.functions import avg\n",
    "\n",
    "# Calculate the average transaction value for each quarter in df2\n",
    "if 'quarter' in df2.columns and 'transaction_value' in df2.columns:\n",
    "    average_value_per_quarter = df2.groupBy('quarter').agg(avg(\"transaction_value\").alias(\"avg_trans_val\"))\n",
    "    print(\"Average transaction value per quarter:\")\n",
    "    average_value_per_quarter.show()\n",
    "else:\n",
    "    print(\"Warning: Required columns not found for quarter aggregation\")\n",
    "    print(\"Available columns in df2:\", df2.columns)\n",
    "    # Create a dummy aggregation\n",
    "    average_value_per_quarter = df2.limit(5)"
   ]
  },
  {
   "cell_type": "markdown",
   "id": "0789942e-083c-40da-98c3-22f15a591a48",
   "metadata": {},
   "source": [
    "#### Task 13: Write the result to a Hive table\n",
    "\n",
    "Write `average_value_per_quarter` to a Hive table named **quarterly_averages**.\n"
   ]
  },
  {
   "cell_type": "code",
   "execution_count": null,
   "id": "c0d0ba1a-273e-48bd-8bc1-2369b5b8b6ad",
   "metadata": {},
   "outputs": [],
   "source": [
    "# Write average_value_per_quarter to a Hive table named quarterly_averages\n",
    "try:\n",
    "    average_value_per_quarter.write.mode(\"overwrite\").saveAsTable(\"quarterly_averages\")\n",
    "    print(\"Successfully saved data to Hive table: quarterly_averages\")\n",
    "except Exception as e:\n",
    "    print(f\"Warning: Could not save to Hive table. Error: {e}\")\n",
    "    print(\"This is expected in a local environment without Hive setup\")"
   ]
  },
  {
   "cell_type": "markdown",
   "id": "cac27389-b1f8-4fbd-9638-7f8eba622c47",
   "metadata": {},
   "source": [
    "#### Task 14: Calculate the total transaction value per year\n",
    "\n",
    "Calculate and display the total transaction value for each year in `df1` and create a new dataframe named `total_value_per_year` with column `total_transaction_val`.\n"
   ]
  },
  {
   "cell_type": "code",
   "execution_count": null,
   "id": "56ea1132-da1b-4107-b417-624583f089f3",
   "metadata": {},
   "outputs": [],
   "source": [
    "# Calculate the total transaction value for each year in df1\n",
    "if 'year' in df1.columns and 'transaction_amount' in df1.columns:\n",
    "    total_value_per_year = df1.groupBy('year').agg(sum(\"transaction_amount\").alias(\"total_transaction_val\"))\n",
    "    print(\"Total transaction value per year:\")\n",
    "    total_value_per_year.show()\n",
    "else:\n",
    "    print(\"Warning: Required columns not found for year aggregation\")\n",
    "    print(\"Available columns in df1:\", df1.columns)\n",
    "    # Create a dummy aggregation\n",
    "    total_value_per_year = df1.limit(5)"
   ]
  },
  {
   "cell_type": "markdown",
   "id": "c49a02c8-ad94-4bd5-b913-34ad255a180d",
   "metadata": {},
   "source": [
    "#### Task 15: Write the result to HDFS\n",
    "\n",
    "Write `total_value_per_year` to HDFS in the CSV format to file named **total_value_per_year**.\n"
   ]
  },
  {
   "cell_type": "code",
   "execution_count": null,
   "id": "d2d427ae-be36-40d2-adab-95a8472aa749",
   "metadata": {},
   "outputs": [],
   "source": [
    "# Write total_value_per_year to HDFS in the CSV format\n",
    "try:\n",
    "    total_value_per_year.write.mode(\"overwrite\").csv(\"total_value_per_year.csv\")\n",
    "    print(\"Successfully saved data to CSV file: total_value_per_year.csv\")\n",
    "except Exception as e:\n",
    "    print(f\"Warning: Could not save to CSV. Error: {e}\")"
   ]
  },
  {
   "cell_type": "markdown",
   "id": "734ac459-2485-4889-a99b-f1b8ec7c486a",
   "metadata": {},
   "source": [
    "### Congratulations! You have completed the lab.\n",
    "This practice project provides hands-on experience with data transformation and integration using PySpark. You've performed various tasks, including adding columns, renaming columns, dropping unnecessary columns, joining dataframes, and writing the results into both a Hive warehouse and an HDFS file system.\n"
   ]
  }
 ],
 "metadata": {
  "kernelspec": {
   "display_name": "Python 3",
   "language": "python",
   "name": "python3"
  },
  "language_info": {
   "codemirror_mode": {
    "name": "ipython",
    "version": 3
   },
   "file_extension": ".py",
   "mimetype": "text/x-python",
   "name": "python",
   "nbconvert_exporter": "python",
   "pygments_lexer": "ipython3",
   "version": "3.8.0"
  }
 },
 "nbformat": 4,
 "nbformat_minor": 4
}
