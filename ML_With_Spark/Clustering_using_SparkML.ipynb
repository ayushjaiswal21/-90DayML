{
 "cells": [
  {
   "cell_type": "code",
   "execution_count": 1,
   "id": "1442f05b-cb12-4a4d-b3ed-42903baf0b7f",
   "metadata": {},
   "outputs": [],
   "source": [
    "\n",
    "import findspark\n",
    "findspark.init()\n",
    "\n",
    "#import functions/Classes for sparkml\n",
    "\n",
    "from pyspark.ml.clustering import KMeans\n",
    "from pyspark.ml.feature import VectorAssembler\n",
    "\n",
    "from pyspark.sql import SparkSession\n"
   ]
  },
  {
   "cell_type": "markdown",
   "id": "80a7554a-7af5-4b01-9acd-997d2dfeaf8e",
   "metadata": {},
   "source": [
    "## Task 1 - Create a spark session\n"
   ]
  },
  {
   "cell_type": "code",
   "execution_count": 2,
   "id": "4b3671da-72f5-41d5-9162-fc1a89d9fb69",
   "metadata": {},
   "outputs": [],
   "source": [
    "#Create SparkSession\n",
    "#Ignore any warnings by SparkSession command\n",
    "\n",
    "spark = SparkSession.builder.appName(\"Clustering using SparkML\").getOrCreate()"
   ]
  },
  {
   "cell_type": "markdown",
   "id": "4dbc00eb-7cab-4d99-b5b5-dc0408d2f39c",
   "metadata": {},
   "source": [
    "Load the dataset into the spark dataframe\n"
   ]
  },
  {
   "cell_type": "code",
   "execution_count": 3,
   "id": "0577d71a-c7d6-4e52-8622-b5cb35e8ea9a",
   "metadata": {},
   "outputs": [],
   "source": [
    "# using the spark.read.csv function we load the data into a dataframe.\n",
    "# the header = True mentions that there is a header row in out csv file\n",
    "# the inferSchema = True, tells spark to automatically find out the data types of the columns.\n",
    "\n",
    "# Load customers dataset\n",
    "customer_data = spark.read.csv(\"customers.csv\", header=True, inferSchema=True)\n"
   ]
  },
  {
   "cell_type": "markdown",
   "id": "971d2b8f-e0e4-4cfc-bebc-994326b81f45",
   "metadata": {},
   "source": [
    "Print the schema of the dataset\n"
   ]
  },
  {
   "cell_type": "code",
   "execution_count": null,
   "id": "37d27eaa-d19c-447f-9580-9bd717938c4d",
   "metadata": {},
   "outputs": [],
   "source": [
    "# Each row in this dataset is about a customer. The columns indicate the orders placed\n",
    "# by a customer for Fresh_food, Milk, Grocery and Frozen_Food"
   ]
  },
  {
   "cell_type": "code",
   "execution_count": 4,
   "id": "8690a32b-be07-4bd8-b0d0-eeff9aadbaea",
   "metadata": {},
   "outputs": [
    {
     "name": "stdout",
     "output_type": "stream",
     "text": [
      "root\n",
      " |-- Fresh_Food: integer (nullable = true)\n",
      " |-- Milk: integer (nullable = true)\n",
      " |-- Grocery: integer (nullable = true)\n",
      " |-- Frozen_Food: integer (nullable = true)\n",
      "\n"
     ]
    }
   ],
   "source": [
    "customer_data.printSchema()"
   ]
  },
  {
   "cell_type": "markdown",
   "id": "47178055-b475-4796-a91e-ffe10082a1a4",
   "metadata": {},
   "source": [
    "Show top 5 rows from the dataset\n"
   ]
  },
  {
   "cell_type": "code",
   "execution_count": 5,
   "id": "0eebaa8b-2c4f-4266-a266-8f033597ac34",
   "metadata": {},
   "outputs": [
    {
     "name": "stdout",
     "output_type": "stream",
     "text": [
      "+----------+----+-------+-----------+\n",
      "|Fresh_Food|Milk|Grocery|Frozen_Food|\n",
      "+----------+----+-------+-----------+\n",
      "|12669     |9656|7561   |214        |\n",
      "|7057      |9810|9568   |1762       |\n",
      "|6353      |8808|7684   |2405       |\n",
      "|13265     |1196|4221   |6404       |\n",
      "|22615     |5410|7198   |3915       |\n",
      "+----------+----+-------+-----------+\n",
      "only showing top 5 rows\n"
     ]
    }
   ],
   "source": [
    "customer_data.show(n=5, truncate=False)"
   ]
  },
  {
   "cell_type": "markdown",
   "id": "3d09fa95-f212-4ce0-b013-e791fb607618",
   "metadata": {},
   "source": [
    "## Task 3 - Create a feature vector\n"
   ]
  },
  {
   "cell_type": "code",
   "execution_count": 6,
   "id": "11c549e5-8c0a-4d48-a4b8-5ea2ed9de527",
   "metadata": {},
   "outputs": [],
   "source": [
    "# Assemble the features into a single vector column\n",
    "feature_cols = ['Fresh_Food', 'Milk', 'Grocery', 'Frozen_Food']\n",
    "assembler = VectorAssembler(inputCols=feature_cols, outputCol=\"features\")\n",
    "customer_transformed_data = assembler.transform(customer_data)\n"
   ]
  },
  {
   "cell_type": "markdown",
   "id": "f6ec58a0-90b6-41a0-b376-fab0d17fb19c",
   "metadata": {},
   "source": [
    "You must tell the KMeans algorithm how many clusters to create out of your data\n"
   ]
  },
  {
   "cell_type": "code",
   "execution_count": 7,
   "id": "d303e63f-2416-4e3e-a841-a90824219542",
   "metadata": {},
   "outputs": [],
   "source": [
    "number_of_clusters = 3"
   ]
  },
  {
   "cell_type": "markdown",
   "id": "b20b7350-6279-4fa4-a050-1c2c4cb50f92",
   "metadata": {},
   "source": [
    "## Task 4 - Create a clustering model\n"
   ]
  },
  {
   "cell_type": "markdown",
   "id": "af5b80a2-a66b-467e-8d0c-5156072a2f2c",
   "metadata": {},
   "source": [
    "Create a KMeans clustering model\n"
   ]
  },
  {
   "cell_type": "code",
   "execution_count": 8,
   "id": "d24eaa59-ca73-443c-8617-40ba4f2333cb",
   "metadata": {},
   "outputs": [],
   "source": [
    "kmeans = KMeans(k = number_of_clusters)\n"
   ]
  },
  {
   "cell_type": "markdown",
   "id": "06eb97f7-b954-464a-85b0-7be01f3ccb94",
   "metadata": {},
   "source": [
    "Train/Fit the model on the dataset<br>\n"
   ]
  },
  {
   "cell_type": "code",
   "execution_count": 9,
   "id": "c7084893-9b26-4fff-a214-afd745a62a30",
   "metadata": {},
   "outputs": [],
   "source": [
    "model = kmeans.fit(customer_transformed_data)\n"
   ]
  },
  {
   "cell_type": "markdown",
   "id": "75f7f159-befd-49e2-92d5-4a6aaf0b5b2d",
   "metadata": {},
   "source": [
    "## Task 5 - Print Cluster Details\n"
   ]
  },
  {
   "cell_type": "markdown",
   "id": "6ff945ad-f791-446c-b89d-008798ed3978",
   "metadata": {},
   "source": [
    "Your model is now trained. Time to evaluate the model.\n"
   ]
  },
  {
   "cell_type": "code",
   "execution_count": 10,
   "id": "573875a5-8b56-4dbd-933b-2fab51a09f50",
   "metadata": {},
   "outputs": [],
   "source": [
    "# Make predictions on the dataset\n",
    "predictions = model.transform(customer_transformed_data)"
   ]
  },
  {
   "cell_type": "code",
   "execution_count": 11,
   "id": "7fe1f9dc-2040-4425-bc09-fffcefd95128",
   "metadata": {},
   "outputs": [
    {
     "name": "stdout",
     "output_type": "stream",
     "text": [
      "+----------+----+-------+-----------+--------------------+----------+\n",
      "|Fresh_Food|Milk|Grocery|Frozen_Food|            features|prediction|\n",
      "+----------+----+-------+-----------+--------------------+----------+\n",
      "|     12669|9656|   7561|        214|[12669.0,9656.0,7...|         0|\n",
      "|      7057|9810|   9568|       1762|[7057.0,9810.0,95...|         0|\n",
      "|      6353|8808|   7684|       2405|[6353.0,8808.0,76...|         0|\n",
      "|     13265|1196|   4221|       6404|[13265.0,1196.0,4...|         0|\n",
      "|     22615|5410|   7198|       3915|[22615.0,5410.0,7...|         1|\n",
      "+----------+----+-------+-----------+--------------------+----------+\n",
      "only showing top 5 rows\n"
     ]
    }
   ],
   "source": [
    "# Display the results\n",
    "predictions.show(5)"
   ]
  },
  {
   "cell_type": "markdown",
   "id": "e224cf3b-a616-441a-b4f3-e7df44eccb33",
   "metadata": {},
   "source": [
    "Display how many customers are there in each cluster.\n"
   ]
  },
  {
   "cell_type": "code",
   "execution_count": 12,
   "id": "f15aa8e4-6c11-42f1-8513-a3a02843ab6e",
   "metadata": {},
   "outputs": [
    {
     "name": "stdout",
     "output_type": "stream",
     "text": [
      "+----------+-----+\n",
      "|prediction|count|\n",
      "+----------+-----+\n",
      "|         1|   60|\n",
      "|         2|   49|\n",
      "|         0|  331|\n",
      "+----------+-----+\n",
      "\n"
     ]
    }
   ],
   "source": [
    "predictions.groupBy('prediction').count().show()"
   ]
  },
  {
   "cell_type": "code",
   "execution_count": 13,
   "id": "7a18c199-b845-4d4f-b27b-95a62d73220d",
   "metadata": {},
   "outputs": [],
   "source": [
    "#stop spark session\n",
    "spark.stop()"
   ]
  }
 ],
 "metadata": {
  "kernelspec": {
   "display_name": "Python 3",
   "language": "python",
   "name": "python3"
  },
  "language_info": {
   "codemirror_mode": {
    "name": "ipython",
    "version": 3
   },
   "file_extension": ".py",
   "mimetype": "text/x-python",
   "name": "python",
   "nbconvert_exporter": "python",
   "pygments_lexer": "ipython3",
   "version": "3.13.1"
  },
  "prev_pub_hash": "c863e5c6ade435b8be242605a8af91626c62366008224b92d7b875449bcd8516"
 },
 "nbformat": 4,
 "nbformat_minor": 4
}
