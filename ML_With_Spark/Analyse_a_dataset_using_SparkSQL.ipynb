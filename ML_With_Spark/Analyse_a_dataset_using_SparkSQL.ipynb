{
 "cells": [
  {
   "cell_type": "code",
   "execution_count": 1,
   "id": "3d786a9d-efaf-40e2-9120-a9e938e1fe82",
   "metadata": {},
   "outputs": [],
   "source": [
    "\n",
    "import findspark\n",
    "findspark.init()\n",
    "\n",
    "#import functions/Classes for sparkml\n",
    "\n",
    "from pyspark.sql import SparkSession"
   ]
  },
  {
   "cell_type": "markdown",
   "id": "46170a5f-61fd-4fba-83b5-d6286b02f0bb",
   "metadata": {},
   "source": [
    "# Examples\n"
   ]
  },
  {
   "cell_type": "markdown",
   "id": "44c6e8ab-90e0-4057-8b0b-4cb373bb7c1f",
   "metadata": {},
   "source": [
    "## Task 1 - Create a spark session\n"
   ]
  },
  {
   "cell_type": "code",
   "execution_count": 2,
   "id": "5648794a-bec0-4f81-a0a8-8490051e76a8",
   "metadata": {},
   "outputs": [],
   "source": [
    "\n",
    "spark = SparkSession.builder.appName(\"SparkSQL\").getOrCreate()"
   ]
  },
  {
   "cell_type": "markdown",
   "id": "91ca9e98-ff3c-4a37-b148-05cbb45fb508",
   "metadata": {},
   "source": [
    "## Task 2 - Load csv file into a dataframe\n"
   ]
  },
  {
   "cell_type": "markdown",
   "id": "9bcb3b6d-e369-4d05-8562-0f47f017a30f",
   "metadata": {},
   "source": [
    "Load the dataset into the spark dataframe\n"
   ]
  },
  {
   "cell_type": "code",
   "execution_count": 3,
   "id": "f1418e92-2eb1-4678-ba6f-10fa6bb7b643",
   "metadata": {},
   "outputs": [],
   "source": [
    "# Load mpg dataset\n",
    "mpg_data = spark.read.csv(\"mpg.csv\", header=True, inferSchema=True)\n"
   ]
  },
  {
   "cell_type": "markdown",
   "id": "0fcd23b1-1a03-4630-bae2-b055ac3b00c9",
   "metadata": {},
   "source": [
    "## Task 3 - Create a temporary view\n"
   ]
  },
  {
   "cell_type": "markdown",
   "id": "dd0d90ed-8237-47b5-8c5d-bd8c9303f34a",
   "metadata": {},
   "source": [
    "Create a temporary view of the DataFrame named mileage\n"
   ]
  },
  {
   "cell_type": "code",
   "execution_count": 4,
   "id": "03d155a3-c079-4624-b7d6-abd090e9571c",
   "metadata": {},
   "outputs": [],
   "source": [
    "\n",
    "mpg_data.createOrReplaceTempView(\"mileage\")\n"
   ]
  },
  {
   "cell_type": "markdown",
   "id": "6cbaaff3-f20e-4d97-99ce-8bb96b6c9f7e",
   "metadata": {},
   "source": [
    "## Task 4 - Run a SQL query on the dataframe\n"
   ]
  },
  {
   "cell_type": "markdown",
   "id": "1b249866-53a3-44f8-8a58-dc7dc336c22c",
   "metadata": {},
   "source": [
    "Select all cars whose mileage is more than 40\n"
   ]
  },
  {
   "cell_type": "code",
   "execution_count": 5,
   "id": "05f77d5e-e565-4164-a42a-31eaad27f5b7",
   "metadata": {},
   "outputs": [],
   "source": [
    "results = spark.sql(\"SELECT * FROM mileage WHERE MPG > 40\")"
   ]
  },
  {
   "cell_type": "code",
   "execution_count": 6,
   "id": "442116ab-4403-418a-b7c3-ec6a622a7b8c",
   "metadata": {},
   "outputs": [
    {
     "name": "stdout",
     "output_type": "stream",
     "text": [
      "+----+---------+-----------+----------+------+----------+----+--------+\n",
      "| MPG|Cylinders|Engine Disp|Horsepower|Weight|Accelerate|Year|  Origin|\n",
      "+----+---------+-----------+----------+------+----------+----+--------+\n",
      "|43.1|        4|       90.0|        48|  1985|      21.5|  78|European|\n",
      "|43.4|        4|       90.0|        48|  2335|      23.7|  80|European|\n",
      "|41.5|        4|       98.0|        76|  2144|      14.7|  80|European|\n",
      "|44.3|        4|       90.0|        48|  2085|      21.7|  80|European|\n",
      "|40.8|        4|       85.0|        65|  2110|      19.2|  80|Japanese|\n",
      "|44.6|        4|       91.0|        67|  1850|      13.8|  80|Japanese|\n",
      "|46.6|        4|       86.0|        65|  2110|      17.9|  80|Japanese|\n",
      "|44.0|        4|       97.0|        52|  2130|      24.6|  82|European|\n",
      "+----+---------+-----------+----------+------+----------+----+--------+\n",
      "\n"
     ]
    }
   ],
   "source": [
    "# show the results\n",
    "results.show()"
   ]
  },
  {
   "cell_type": "markdown",
   "id": "265dd3c2-ec85-43e8-9566-7cb63da15d70",
   "metadata": {},
   "source": [
    "## Task 5 - Analyze the dataset\n"
   ]
  },
  {
   "cell_type": "markdown",
   "id": "098a4f72-099f-42c4-9d4e-b4a05d2ad673",
   "metadata": {},
   "source": [
    "List all the unique Origins\n"
   ]
  },
  {
   "cell_type": "code",
   "execution_count": 7,
   "id": "33ad1105-a92b-40dc-b5a8-c1e0b47c6037",
   "metadata": {},
   "outputs": [
    {
     "name": "stdout",
     "output_type": "stream",
     "text": [
      "+--------+\n",
      "|  Origin|\n",
      "+--------+\n",
      "|European|\n",
      "|Japanese|\n",
      "|American|\n",
      "+--------+\n",
      "\n"
     ]
    }
   ],
   "source": [
    "spark.sql(\"SELECT distinct Origin FROM mileage\").show()"
   ]
  },
  {
   "cell_type": "markdown",
   "id": "b54ea2ad-25c2-4bc1-a017-49e6e350d60d",
   "metadata": {},
   "source": [
    "Show the count of Japanese cars\n"
   ]
  },
  {
   "cell_type": "code",
   "execution_count": 8,
   "id": "8010f46d-92c5-450a-beb6-1af21bec2b22",
   "metadata": {},
   "outputs": [
    {
     "name": "stdout",
     "output_type": "stream",
     "text": [
      "+--------+\n",
      "|count(1)|\n",
      "+--------+\n",
      "|      79|\n",
      "+--------+\n",
      "\n"
     ]
    }
   ],
   "source": [
    "spark.sql(\"SELECT count(*) FROM mileage where Origin ='Japanese' \").show()"
   ]
  },
  {
   "cell_type": "markdown",
   "id": "fef31392-da4f-4f9c-a176-26e0e4ab6c02",
   "metadata": {},
   "source": [
    "Count the number of cars with mileage greater than 40\n"
   ]
  },
  {
   "cell_type": "code",
   "execution_count": 9,
   "id": "c3347693-9748-4aa9-bb80-2d6cf50e230f",
   "metadata": {},
   "outputs": [
    {
     "name": "stdout",
     "output_type": "stream",
     "text": [
      "+--------+\n",
      "|count(1)|\n",
      "+--------+\n",
      "|       8|\n",
      "+--------+\n",
      "\n"
     ]
    }
   ],
   "source": [
    "spark.sql(\"SELECT count(*) FROM mileage where MPG > 40\").show()"
   ]
  },
  {
   "cell_type": "markdown",
   "id": "84219b39-e2fd-4de1-b812-506e65f66599",
   "metadata": {},
   "source": [
    "List the number of cars made in different Years\n"
   ]
  },
  {
   "cell_type": "code",
   "execution_count": 10,
   "id": "015c6497-4d03-45e9-8022-1535ccda4ed3",
   "metadata": {},
   "outputs": [
    {
     "name": "stdout",
     "output_type": "stream",
     "text": [
      "+----+-----------+\n",
      "|Year|count(Year)|\n",
      "+----+-----------+\n",
      "|  78|         36|\n",
      "|  81|         28|\n",
      "|  76|         34|\n",
      "|  72|         28|\n",
      "|  77|         28|\n",
      "|  82|         30|\n",
      "|  80|         27|\n",
      "|  73|         40|\n",
      "|  70|         29|\n",
      "|  75|         30|\n",
      "|  71|         27|\n",
      "|  79|         29|\n",
      "|  74|         26|\n",
      "+----+-----------+\n",
      "\n"
     ]
    }
   ],
   "source": [
    "spark.sql(\"SELECT Year, count(Year) FROM mileage group by Year\").show()"
   ]
  },
  {
   "cell_type": "markdown",
   "id": "754d9cc4-53e6-4b94-9fdc-a5958bd38bc8",
   "metadata": {},
   "source": [
    "Print the maximum MPG\n"
   ]
  },
  {
   "cell_type": "code",
   "execution_count": 11,
   "id": "e92b2e36-0eab-4a36-8fe9-6dacba5cd5d3",
   "metadata": {},
   "outputs": [
    {
     "name": "stdout",
     "output_type": "stream",
     "text": [
      "+--------+\n",
      "|max(MPG)|\n",
      "+--------+\n",
      "|    46.6|\n",
      "+--------+\n",
      "\n"
     ]
    }
   ],
   "source": [
    "spark.sql(\"SELECT max(MPG) FROM mileage\").show()"
   ]
  },
  {
   "cell_type": "markdown",
   "id": "2d8afae0-4750-428c-8aa2-ec5294ed6e8e",
   "metadata": {},
   "source": [
    "Stop Spark Session\n"
   ]
  },
  {
   "cell_type": "code",
   "execution_count": 12,
   "id": "abe95a3a-bd57-417c-85f9-15d286263a36",
   "metadata": {},
   "outputs": [],
   "source": [
    "spark.stop()"
   ]
  },
  {
   "cell_type": "markdown",
   "id": "0a44f0ca-941e-4fca-bd04-efef84620da6",
   "metadata": {},
   "source": [
    "<!--\n",
    "|Date (YYYY-MM-DD)|Version|Changed By|Change Description|\n",
    "|-|-|-|-|\n",
    "|2023-05-04|0.1|Ramesh Sannareddy|Initial Version Created|\n",
    "-->\n"
   ]
  }
 ],
 "metadata": {
  "kernelspec": {
   "display_name": "Python 3",
   "language": "python",
   "name": "python3"
  },
  "language_info": {
   "codemirror_mode": {
    "name": "ipython",
    "version": 3
   },
   "file_extension": ".py",
   "mimetype": "text/x-python",
   "name": "python",
   "nbconvert_exporter": "python",
   "pygments_lexer": "ipython3",
   "version": "3.13.1"
  },
  "prev_pub_hash": "a391e24e3daa16c4386301f44198f17ee92d59e53325e6062333c2817e9001fe"
 },
 "nbformat": 4,
 "nbformat_minor": 4
}
