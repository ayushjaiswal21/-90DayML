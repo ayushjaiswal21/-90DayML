{
 "cells": [
  {
   "cell_type": "markdown",
   "id": "3eeae52e",
   "metadata": {},
   "source": [
    "# Airfoil Self-Noise Prediction using PySpark\n",
    "\n",
    "This project uses the NASA Airfoil Self-Noise dataset to predict the sound pressure level based on several input features using Apache Spark."
   ]
  },
  {
   "cell_type": "code",
   "execution_count": null,
   "id": "8c704d61",
   "metadata": {},
   "outputs": [],
   "source": [
    "!pip install pyspark==3.1.2 -q\n",
    "!pip install findspark -q"
   ]
  },
  {
   "cell_type": "code",
   "execution_count": null,
   "id": "fe815b29",
   "metadata": {},
   "outputs": [],
   "source": [
    "import warnings\n",
    "warnings.filterwarnings('ignore')\n",
    "\n",
    "import findspark\n",
    "findspark.init()"
   ]
  },
  {
   "cell_type": "code",
   "execution_count": null,
   "id": "307b46de",
   "metadata": {},
   "outputs": [],
   "source": [
    "from pyspark.sql import SparkSession\n",
    "\n",
    "# Create SparkSession\n",
    "spark = SparkSession.builder \\\n",
    "    .appName(\"AirfoilNoisePrediction\") \\\n",
    "    .getOrCreate()"
   ]
  },
  {
   "cell_type": "code",
   "execution_count": null,
   "id": "753e8840",
   "metadata": {},
   "outputs": [],
   "source": [
    "import os\n",
    "os.makedirs(\"/tmp\", exist_ok=True)"
   ]
  },
  {
   "cell_type": "code",
   "execution_count": null,
   "id": "052f69d5",
   "metadata": {},
   "outputs": [],
   "source": [
    "from pyspark.sql.types import StructType, StructField, DoubleType\n",
    "\n",
    "# Define schema manually\n",
    "schema = StructType([\n",
    "    StructField(\"Frequency\", DoubleType(), True),\n",
    "    StructField(\"Angle_of_attack\", DoubleType(), True),\n",
    "    StructField(\"Chord_length\", DoubleType(), True),\n",
    "    StructField(\"Free_stream_velocity\", DoubleType(), True),\n",
    "    StructField(\"Suction_thickness\", DoubleType(), True),\n",
    "    StructField(\"Sound_pressure_level\", DoubleType(), True)\n",
    "])\n",
    "\n",
    "# Load the data\n",
    "file_path = \"/tmp/NASA_airfoil_noise_raw.csv\"\n",
    "df = spark.read.csv(file_path, schema=schema, header=False)\n",
    "df.show(5)"
   ]
  },
  {
   "cell_type": "code",
   "execution_count": null,
   "id": "e4c3ab57",
   "metadata": {},
   "outputs": [],
   "source": [
    "df.printSchema()\n",
    "df.describe().show()"
   ]
  },
  {
   "cell_type": "markdown",
   "id": "b518ff52",
   "metadata": {},
   "source": [
    "## Feature Engineering and Vector Assembling"
   ]
  },
  {
   "cell_type": "code",
   "execution_count": null,
   "id": "02378e7a",
   "metadata": {},
   "outputs": [],
   "source": [
    "from pyspark.ml.feature import VectorAssembler\n",
    "\n",
    "# Select features and label\n",
    "feature_cols = [\n",
    "    \"Frequency\", \"Angle_of_attack\", \"Chord_length\",\n",
    "    \"Free_stream_velocity\", \"Suction_thickness\"\n",
    "]\n",
    "\n",
    "assembler = VectorAssembler(inputCols=feature_cols, outputCol=\"features\")\n",
    "data = assembler.transform(df).select(\"features\", \"Sound_pressure_level\")\n",
    "data.show(5)"
   ]
  },
  {
   "cell_type": "markdown",
   "id": "6b8cd2bb",
   "metadata": {},
   "source": [
    "## Train-Test Split and Model Training"
   ]
  },
  {
   "cell_type": "code",
   "execution_count": null,
   "id": "87dc6c67",
   "metadata": {},
   "outputs": [],
   "source": [
    "train_data, test_data = data.randomSplit([0.8, 0.2], seed=42)\n",
    "\n",
    "from pyspark.ml.regression import LinearRegression\n",
    "lr = LinearRegression(featuresCol=\"features\", labelCol=\"Sound_pressure_level\")\n",
    "model = lr.fit(train_data)"
   ]
  },
  {
   "cell_type": "markdown",
   "id": "ccd72ed7",
   "metadata": {},
   "source": [
    "## Model Evaluation"
   ]
  },
  {
   "cell_type": "code",
   "execution_count": null,
   "id": "6b241fe7",
   "metadata": {},
   "outputs": [],
   "source": [
    "predictions = model.transform(test_data)\n",
    "\n",
    "from pyspark.ml.evaluation import RegressionEvaluator\n",
    "\n",
    "evaluator = RegressionEvaluator(\n",
    "    labelCol=\"Sound_pressure_level\",\n",
    "    predictionCol=\"prediction\",\n",
    "    metricName=\"rmse\"\n",
    ")\n",
    "\n",
    "rmse = evaluator.evaluate(predictions)\n",
    "print(f\"Root Mean Squared Error (RMSE): {rmse:.2f}\")"
   ]
  },
  {
   "cell_type": "code",
   "execution_count": null,
   "id": "7688fea0",
   "metadata": {},
   "outputs": [],
   "source": [
    "print(\"Model Coefficients:\", model.coefficients)\n",
    "print(\"Model Intercept:\", model.intercept)"
   ]
  },
  {
   "cell_type": "markdown",
   "id": "d9d66d70",
   "metadata": {},
   "source": [
    "## Save Final Predictions"
   ]
  },
  {
   "cell_type": "code",
   "execution_count": null,
   "id": "5a3fc92e",
   "metadata": {},
   "outputs": [],
   "source": [
    "predictions.select(\"prediction\", \"Sound_pressure_level\").show(10)"
   ]
  }
 ],
 "metadata": {
  "language_info": {
   "name": "python"
  }
 },
 "nbformat": 4,
 "nbformat_minor": 5
}
