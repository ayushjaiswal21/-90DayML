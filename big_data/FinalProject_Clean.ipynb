{
 "cells": [
  {
   "cell_type": "markdown",
   "id": "03af1847-010b-4385-be36-a2d78b6e55a7",
   "metadata": {},
   "source": [
    "# Final Project: Data Analysis using Spark\n",
    "\n",
    "Estimated time needed: **60** minutes\n",
    "\n",
    "This final project is similar to the Practice Project you did. In this project, you will create a DataFrame by loading data from a CSV file and apply transformations and actions using Spark SQL. This needs to be achieved by performing the following tasks:\n",
    "\n",
    "- Task 1: Generate DataFrame from CSV data.\n",
    "- Task 2: Define a schema for the data.\n",
    "- Task 3: Display schema of DataFrame.\n",
    "- Task 4: Create a temporary view.\n",
    "- Task 5: Execute an SQL query.\n",
    "- Task 6: Calculate Average Salary by Department.\n",
    "- Task 7: Filter and Display IT Department Employees.\n",
    "- Task 8: Add 10% Bonus to Salaries.\n",
    "- Task 9: Find Maximum Salary by Age.\n",
    "- Task 10: Self-Join on Employee Data.\n",
    "- Task 11: Calculate Average Employee Age.\n",
    "- Task 12: Calculate Total Salary by Department.\n",
    "- Task 13: Sort Data by Age and Salary.\n",
    "- Task 14: Count Employees in Each Department.\n",
    "- Task 15: Filter Employees with the letter o in the Name.\n"
   ]
  },
  {
   "cell_type": "markdown",
   "id": "795324d6-5dd8-43a1-ba14-41907d46a188",
   "metadata": {},
   "source": [
    "### Prerequisites \n",
    "\n",
    "1. For this lab assignment, you will be using Python and Spark (PySpark). Therefore, it's essential to make sure that the following libraries are installed in your lab environment\n"
   ]
  },
  {
   "cell_type": "code",
   "execution_count": null,
   "id": "ff775a2a-8b3f-4fd9-adcf-6ba3d125ebd7",
   "metadata": {},
   "outputs": [],
   "source": [
    "# Installing required packages  \n",
    "!pip install pyspark findspark wget\n"
   ]
  },
  {
   "cell_type": "code",
   "execution_count": null,
   "id": "eb56c76d-5976-4a4c-9fc0-3781cabdda20",
   "metadata": {},
   "outputs": [],
   "source": [
    "import findspark\n",
    "findspark.init()"
   ]
  },
  {
   "cell_type": "code",
   "execution_count": null,
   "id": "606c1ba1-8fbe-4f23-a9d5-8fd1b00b7a3b",
   "metadata": {},
   "outputs": [],
   "source": [
    "# PySpark is the Spark API for Python. In this lab, we use PySpark to initialize the SparkContext.\n",
    "from pyspark import SparkContext, SparkConf\n",
    "from pyspark.sql import SparkSession"
   ]
  },
  {
   "cell_type": "code",
   "execution_count": null,
   "id": "38ddefbc-13d1-4ec1-9f10-b0d1534fb84f",
   "metadata": {},
   "outputs": [],
   "source": [
    "# Creating a SparkContext object  \n",
    "sc = SparkContext.getOrCreate()\n",
    "\n",
    "# Creating a SparkSession  \n",
    "spark = SparkSession \\\n",
    "    .builder \\\n",
    "    .appName(\"Python Spark DataFrames basic example\") \\\n",
    "    .config(\"spark.some.config.option\", \"some-value\") \\\n",
    "    .getOrCreate()"
   ]
  },
  {
   "cell_type": "markdown",
   "id": "2df9d7f9-7c8b-4ff9-8108-d1b103523fd2",
   "metadata": {},
   "source": [
    "2. Download the CSV data.  \n"
   ]
  },
  {
   "cell_type": "code",
   "execution_count": null,
   "id": "81f43113-63af-4677-b02e-21bc9ae57123",
   "metadata": {},
   "outputs": [],
   "source": [
    "# Download the CSV data first into a local `employees.csv` file\n",
    "import wget\n",
    "wget.download(\"https://cf-courses-data.s3.us.cloud-object-storage.appdomain.cloud/IBM-BD0225EN-SkillsNetwork/data/employees.csv\")"
   ]
  },
  {
   "cell_type": "markdown",
   "id": "08ed1d05-c8b8-4e1a-8eeb-ce6ae0348389",
   "metadata": {},
   "source": [
    "### Tasks\n"
   ]
  },
  {
   "cell_type": "markdown",
   "id": "f3d616e9-1643-461e-8643-8d8a6fae372d",
   "metadata": {},
   "source": [
    "#### Task 1: Generate a Spark DataFrame from the CSV data\n",
    "\n",
    "Read data from the provided CSV file, `employees.csv` and import it into a Spark DataFrame variable named `employees_df`.\n",
    "\n",
    " \n"
   ]
  },
  {
   "cell_type": "code",
   "execution_count": null,
   "id": "ae9f8cef-4fb3-4f4a-a4ca-66f11af0f7fd",
   "metadata": {},
   "outputs": [],
   "source": [
    "# Read data from the \"employees.csv\" CSV file and import it into a DataFrame variable named \"employees_df\"\n",
    "employees_df = spark.read.csv(\"employees.csv\", header=True, inferSchema=True)\n",
    "print(\"Successfully loaded employees.csv into DataFrame\")\n",
    "print(f\"Number of rows: {employees_df.count()}\")\n",
    "print(f\"Number of columns: {len(employees_df.columns)}\")"
   ]
  },
  {
   "cell_type": "markdown",
   "id": "7fb386c8-407d-42e6-bdb6-5ba328bc58b9",
   "metadata": {},
   "source": [
    "#### Task 2: Define a schema for the data\n",
    "\n",
    "Construct a schema for the input data and then utilize the defined schema to read the CSV file to create a DataFrame named `employees_df`.  \n"
   ]
  },
  {
   "cell_type": "code",
   "execution_count": null,
   "id": "a5fae738-3189-4a90-8763-f9e18b6cbaad",
   "metadata": {},
   "outputs": [],
   "source": [
    "# Define a Schema for the input data and read the file using the user-defined Schema\n",
    "from pyspark.sql.types import StructType, StructField, IntegerType, StringType, DoubleType\n",
    "\n",
    "# First, let's examine the current structure\n",
    "print(\"Current DataFrame schema:\")\n",
    "employees_df.printSchema()\n",
    "print(\"\\nSample data:\")\n",
    "employees_df.show(5)\n",
    "\n",
    "# Define a schema based on the expected structure\n",
    "schema = StructType([\n",
    "    StructField(\"Emp_No\", IntegerType(), True),\n",
    "    StructField(\"Emp_Name\", StringType(), True),\n",
    "    StructField(\"Salary\", DoubleType(), True),\n",
    "    StructField(\"Age\", IntegerType(), True),\n",
    "    StructField(\"Department\", StringType(), True)\n",
    "])\n",
    "\n",
    "# Read the CSV file with the defined schema\n",
    "employees_df = spark.read.csv(\"employees.csv\", header=True, schema=schema)\n",
    "print(\"\\nDataFrame loaded with defined schema:\")\n",
    "employees_df.printSchema()"
   ]
  },
  {
   "cell_type": "markdown",
   "id": "71ac10a7-4a18-40d3-baf7-f97e514440f8",
   "metadata": {},
   "source": [
    "#### Task 3: Display schema of DataFrame\n",
    "\n",
    "Display the schema of the `employees_df` DataFrame, showing all columns and their respective data types.  \n"
   ]
  },
  {
   "cell_type": "code",
   "execution_count": null,
   "id": "72d7a48d-2a65-4826-a2c6-014df029a893",
   "metadata": {},
   "outputs": [],
   "source": [
    "# Display all columns of the DataFrame, along with their respective data types\n",
    "print(\"Schema of employees_df DataFrame:\")\n",
    "employees_df.printSchema()\n",
    "\n",
    "print(\"\\nColumn names and data types:\")\n",
    "for field in employees_df.schema.fields:\n",
    "    print(f\"Column: {field.name}, Data Type: {field.dataType}, Nullable: {field.nullable}\")\n",
    "\n",
    "print(\"\\nSample data:\")\n",
    "employees_df.show(10)"
   ]
  },
  {
   "cell_type": "markdown",
   "id": "9b2ce4b1-cb83-4a1b-a538-6470878ec530",
   "metadata": {},
   "source": [
    "#### Task 4: Create a temporary view\n",
    "\n",
    "Create a temporary view named `employees` for the `employees_df` DataFrame, enabling Spark SQL queries on the data. \n"
   ]
  },
  {
   "cell_type": "code",
   "execution_count": null,
   "id": "d905eb32-bd7d-445d-8f95-8e5c6f26cca7",
   "metadata": {},
   "outputs": [],
   "source": [
    "# Create a temporary view named \"employees\" for the DataFrame\n",
    "employees_df.createOrReplaceTempView(\"employees\")\n",
    "print(\"Successfully created temporary view 'employees'\")\n",
    "\n",
    "# Verify the view is created by running a simple query\n",
    "result = spark.sql(\"SELECT COUNT(*) as total_employees FROM employees\")\n",
    "result.show()\n",
    "print(\"Temporary view is working correctly!\")"
   ]
  },
  {
   "cell_type": "markdown",
   "id": "e96e2132-96f4-489f-9308-907c629ce9ea",
   "metadata": {},
   "source": [
    "#### Task 5: Execute an SQL query\n",
    "\n",
    "Compose and execute an SQL query to fetch the records from the `employees` view where the age of employees exceeds 30. Then, display the result of the SQL query, showcasing the filtered records.\n"
   ]
  },
  {
   "cell_type": "code",
   "execution_count": null,
   "id": "fc2aa96a-afb7-4ab0-8c21-c82dd6f87e59",
   "metadata": {},
   "outputs": [],
   "source": [
    "# SQL query to fetch solely the records from the View where the age exceeds 30\n",
    "query = \"SELECT * FROM employees WHERE Age > 30\"\n",
    "result_df = spark.sql(query)\n",
    "\n",
    "print(\"Employees with age > 30:\")\n",
    "result_df.show()\n",
    "\n",
    "print(f\"\\nTotal number of employees with age > 30: {result_df.count()}\")"
   ]
  },
  {
   "cell_type": "markdown",
   "id": "ef503f99-9225-4631-8aa8-58435222be3c",
   "metadata": {},
   "source": [
    "#### Task 6: Calculate Average Salary by Department\n",
    "\n",
    "Compose an SQL query to retrieve the average salary of employees grouped by department. Display the result.\n"
   ]
  },
  {
   "cell_type": "code",
   "execution_count": null,
   "id": "2ed5bda9-2041-48f6-a847-94e8438b6bff",
   "metadata": {},
   "outputs": [],
   "source": [
    "# SQL query to calculate the average salary of employees grouped by department\n",
    "query = \"SELECT Department, AVG(Salary) as Average_Salary FROM employees GROUP BY Department ORDER BY Average_Salary DESC\"\n",
    "avg_salary_by_dept = spark.sql(query)\n",
    "\n",
    "print(\"Average salary by department:\")\n",
    "avg_salary_by_dept.show()"
   ]
  },
  {
   "cell_type": "markdown",
   "id": "85327c81-b404-4efe-ae74-3418af3dbf47",
   "metadata": {},
   "source": [
    "#### Task 7: Filter and Display IT Department Employees\n",
    "\n",
    "Apply a filter on the `employees_df` DataFrame to select records where the department is `'IT'`. Display the filtered DataFrame.\n"
   ]
  },
  {
   "cell_type": "code",
   "execution_count": null,
   "id": "08d8c238-b4d4-4c71-811f-95ba82b75236",
   "metadata": {},
   "outputs": [],
   "source": [
    "# Apply a filter to select records where the department is 'IT'\n",
    "it_employees = employees_df.filter(employees_df.Department == 'IT')\n",
    "\n",
    "print(\"IT Department employees:\")\n",
    "it_employees.show()\n",
    "\n",
    "print(f\"\\nTotal number of IT employees: {it_employees.count()}\")"
   ]
  },
  {
   "cell_type": "markdown",
   "id": "14f5a92f-f7fb-4f4c-8b79-98b2d283b328",
   "metadata": {},
   "source": [
    "#### Task 8: Add 10% Bonus to Salaries\n",
    "\n",
    "Perform a transformation to add a new column named \"SalaryAfterBonus\" to the DataFrame. Calculate the new salary by adding a 10% bonus to each employee's salary.\n"
   ]
  },
  {
   "cell_type": "code",
   "execution_count": null,
   "id": "9e0c1219-962f-4e64-9431-b85a95e781dc",
   "metadata": {},
   "outputs": [],
   "source": [
    "from pyspark.sql.functions import col\n",
    "\n",
    "# Add a new column \"SalaryAfterBonus\" with 10% bonus added to the original salary\n",
    "employees_with_bonus = employees_df.withColumn(\"SalaryAfterBonus\", col(\"Salary\") * 1.10)\n",
    "\n",
    "print(\"Employees with salary after 10% bonus:\")\n",
    "employees_with_bonus.select(\"Emp_No\", \"Emp_Name\", \"Salary\", \"SalaryAfterBonus\").show()\n",
    "\n",
    "# Update the main dataframe\n",
    "employees_df = employees_with_bonus"
   ]
  },
  {
   "cell_type": "markdown",
   "id": "cd2bcea1-4de1-425f-b9c1-03675ce7c315",
   "metadata": {},
   "source": [
    "#### Task 9: Find Maximum Salary by Age\n",
    "\n",
    "Group the data by age and calculate the maximum salary for each age group. Display the result.\n"
   ]
  },
  {
   "cell_type": "code",
   "execution_count": null,
   "id": "7307d690-fedc-4b24-b128-44698cf72ce1",
   "metadata": {},
   "outputs": [],
   "source": [
    "from pyspark.sql.functions import max\n",
    "\n",
    "# Group data by age and calculate the maximum salary for each age group\n",
    "max_salary_by_age = employees_df.groupBy(\"Age\").agg(max(\"Salary\").alias(\"Max_Salary\")).orderBy(\"Age\")\n",
    "\n",
    "print(\"Maximum salary by age:\")\n",
    "max_salary_by_age.show()"
   ]
  },
  {
   "cell_type": "markdown",
   "id": "a83cbdd0-9dbc-40bf-ab98-adc525a1da89",
   "metadata": {},
   "source": [
    "#### Task 10: Self-Join on Employee Data\n",
    "\n",
    "Join the \"employees_df\" DataFrame with itself based on the \"Emp_No\" column. Display the result.\n"
   ]
  },
  {
   "cell_type": "code",
   "execution_count": null,
   "id": "0339f4a3-37d1-4c4e-8e9c-3939f9637f03",
   "metadata": {},
   "outputs": [],
   "source": [
    "# Join the DataFrame with itself based on the \"Emp_No\" column\n",
    "# Create aliases for the dataframes to distinguish columns\n",
    "employees_alias1 = employees_df.alias(\"emp1\")\n",
    "employees_alias2 = employees_df.alias(\"emp2\")\n",
    "\n",
    "# Self-join on Emp_No (this will create a cartesian product of matching Emp_No)\n",
    "self_joined = employees_alias1.join(employees_alias2, \n",
    "                                   employees_alias1.Emp_No == employees_alias2.Emp_No, \n",
    "                                   \"inner\")\n",
    "\n",
    "print(\"Self-joined DataFrame on Emp_No:\")\n",
    "# Select specific columns to make the output more readable\n",
    "self_joined.select(\"emp1.Emp_No\", \"emp1.Emp_Name\", \"emp1.Salary\", \n",
    "                  \"emp2.Emp_No\", \"emp2.Emp_Name\", \"emp2.Salary\").show(10)\n",
    "\n",
    "print(f\"\\nTotal records after self-join: {self_joined.count()}\")"
   ]
  },
  {
   "cell_type": "markdown",
   "id": "e606e268-18b6-4eac-b4a9-415883a541ae",
   "metadata": {},
   "source": [
    "#### Task 11: Calculate Average Employee Age\n",
    "\n",
    "Calculate the average age of employees using the built-in aggregation function. Display the result.\n"
   ]
  },
  {
   "cell_type": "code",
   "execution_count": null,
   "id": "8fc046ec-9134-4916-95ea-dba4c7b0d61a",
   "metadata": {},
   "outputs": [],
   "source": [
    "# Calculate the average age of employees\n",
    "from pyspark.sql.functions import avg \n",
    "\n",
    "avg_age = employees_df.agg(avg(\"Age\").alias(\"Average_Age\"))\n",
    "\n",
    "print(\"Average age of employees:\")\n",
    "avg_age.show()\n",
    "\n",
    "# Alternative: collect the value and print it\n",
    "avg_age_value = avg_age.collect()[0][\"Average_Age\"]\n",
    "print(f\"\\nThe average age of employees is: {avg_age_value:.2f} years\")"
   ]
  },
  {
   "cell_type": "markdown",
   "id": "29be5221-1b31-4330-8f1d-e2a7dc9bae41",
   "metadata": {},
   "source": [
    "#### Task 12: Calculate Total Salary by Department\n",
    "\n",
    "Calculate the total salary for each department using the built-in aggregation function. Display the result.\n"
   ]
  },
  {
   "cell_type": "code",
   "execution_count": null,
   "id": "c14c2fae-3bec-4b49-9af0-ca545c586d45",
   "metadata": {},
   "outputs": [],
   "source": [
    "# Calculate the total salary for each department. Hint - Use GroupBy and Aggregate functions\n",
    "from pyspark.sql.functions import sum \n",
    "\n",
    "total_salary_by_dept = employees_df.groupBy(\"Department\").agg(sum(\"Salary\").alias(\"Total_Salary\")).orderBy(\"Total_Salary\", ascending=False)\n",
    "\n",
    "print(\"Total salary by department:\")\n",
    "total_salary_by_dept.show()"
   ]
  },
  {
   "cell_type": "markdown",
   "id": "1b8f2021-2a6f-437f-8493-cb812a59815d",
   "metadata": {},
   "source": [
    "#### Task 13: Sort Data by Age and Salary\n",
    "\n",
    "Apply a transformation to sort the DataFrame by age in ascending order and then by salary in descending order. Display the sorted DataFrame.\n"
   ]
  },
  {
   "cell_type": "code",
   "execution_count": null,
   "id": "7a530351-d480-4d82-8bf1-31fd919a5e44",
   "metadata": {},
   "outputs": [],
   "source": [
    "# Sort the DataFrame by age in ascending order and then by salary in descending order\n",
    "sorted_employees = employees_df.orderBy(\"Age\", col(\"Salary\").desc())\n",
    "\n",
    "print(\"Employees sorted by age (ascending) and salary (descending):\")\n",
    "sorted_employees.select(\"Emp_No\", \"Emp_Name\", \"Age\", \"Salary\", \"Department\").show()"
   ]
  },
  {
   "cell_type": "markdown",
   "id": "4949fc08-a65f-454c-b226-d94b5b8672f9",
   "metadata": {},
   "source": [
    "#### Task 14: Count Employees in Each Department\n",
    "\n",
    "Calculate the number of employees in each department. Display the result.\n"
   ]
  },
  {
   "cell_type": "code",
   "execution_count": null,
   "id": "76108370-264c-4d11-8aa7-8b977d0e40c6",
   "metadata": {},
   "outputs": [],
   "source": [
    "from pyspark.sql.functions import count\n",
    "\n",
    "# Calculate the number of employees in each department\n",
    "employee_count_by_dept = employees_df.groupBy(\"Department\").agg(count(\"Emp_No\").alias(\"Employee_Count\")).orderBy(\"Employee_Count\", ascending=False)\n",
    "\n",
    "print(\"Number of employees in each department:\")\n",
    "employee_count_by_dept.show()"
   ]
  },
  {
   "cell_type": "markdown",
   "id": "909fe445-e57c-43f4-8604-84a422abc72c",
   "metadata": {},
   "source": [
    "#### Task 15: Filter Employees with the letter o in the Name\n",
    "\n",
    "Apply a filter to select records where the employee's name contains the letter `'o'`. Display the filtered DataFrame.\n"
   ]
  },
  {
   "cell_type": "code",
   "execution_count": null,
   "id": "a2ca2d20-e23d-42d4-96c5-4d78fbc9ca1e",
   "metadata": {},
   "outputs": [],
   "source": [
    "# Apply a filter to select records where the employee's name contains the letter 'o'\n",
    "employees_with_o = employees_df.filter(col(\"Emp_Name\").contains(\"o\"))\n",
    "\n",
    "print(\"Employees with letter 'o' in their name:\")\n",
    "employees_with_o.select(\"Emp_No\", \"Emp_Name\", \"Salary\", \"Age\", \"Department\").show()\n",
    "\n",
    "print(f\"\\nTotal number of employees with 'o' in their name: {employees_with_o.count()}\")"
   ]
  },
  {
   "cell_type": "markdown",
   "id": "5be76f4d-e897-4824-b2e5-1b161f471571",
   "metadata": {},
   "source": [
    "# Congratulations! You have completed the project.\n",
    "\n",
    "Now you know how to create a DataFrame from a CSV data file and perform a variety of DataFrame transformations and actions using Spark SQL.\n"
   ]
  }
 ],
 "metadata": {
  "kernelspec": {
   "display_name": "Python 3",
   "language": "python",
   "name": "python3"
  },
  "language_info": {
   "codemirror_mode": {
    "name": "ipython",
    "version": 3
   },
   "file_extension": ".py",
   "mimetype": "text/x-python",
   "name": "python",
   "nbconvert_exporter": "python",
   "pygments_lexer": "ipython3",
   "version": "3.8.0"
  }
 },
 "nbformat": 4,
 "nbformat_minor": 4
}
