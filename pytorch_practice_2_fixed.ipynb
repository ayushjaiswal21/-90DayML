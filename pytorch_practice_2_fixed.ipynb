{
  "nbformat": 4,
  "nbformat_minor": 0,
  "metadata": {
    "colab": {
      "provenance": [],
      "gpuType": "T4"
    },
    "kernelspec": {
      "name": "python3",
      "display_name": "Python 3"
    },
    "language_info": {
      "name": "python"
    },
    "accelerator": "GPU"
  },
  "cells": [
    {
      "cell_type": "code",
      "execution_count": 1,
      "metadata": {
        "id": "zWbqHF_9py_R"
      },
      "outputs": [],
      "source": [
        "import torch\n",
        "import torchvision\n",
        "import torchvision.transforms as transforms"
      ]
    },
    {
      "cell_type": "code",
      "source": [
        "transform = transforms.Compose(\n",
        "    [transforms.ToTensor(),\n",
        "     transforms.Normalize((0.5, 0.5, 0.5), (0.5, 0.5, 0.5))])\n",
        "\n",
        "batch_size = 4\n",
        "\n",
        "trainset = torchvision.datasets.CIFAR10(root='./data', train=True,\n",
        "                                        download=True, transform=transform)\n",
        "trainloader = torch.utils.data.DataLoader(trainset, batch_size=batch_size,\n",
        "                                          shuffle=True, num_workers=2)\n",
        "\n",
        "testset = torchvision.datasets.CIFAR10(root='./data', train=False,\n",
        "                                       download=True, transform=transform)\n",
        "testloader = torch.utils.data.DataLoader(testset, batch_size=batch_size,\n",
        "                                         shuffle=False, num_workers=2)\n",
        "\n",
        "classes = ('plane', 'car', 'bird', 'cat',\n",
        "           'deer', 'dog', 'frog', 'horse', 'ship', 'truck')\n"
      ],
      "metadata": {
        "colab": {
          "base_uri": "https://localhost:8080/"
        },
        "id": "PAcg9Sj_uGka",
        "outputId": "19f78a60-cb23-42af-b5c5-21cadd50e780"
      },
      "execution_count": 2,
      "outputs": [
        {
          "output_type": "stream",
          "name": "stderr",
          "text": [
            "100%|██████████| 170M/170M [00:04<00:00, 38.4MB/s]\n"
          ]
        }
      ]
    },
    {
      "cell_type": "code",
      "source": [
        "import matplotlib.pyplot as plt\n",
        "import numpy as np\n",
        "\n",
        "# functions to show an image\n",
        "def imshow(img):\n",
        "    img = img / 2 + 0.5     # unnormalize\n",
        "    npimg = img.numpy()\n",
        "    plt.imshow(np.transpose(npimg, (1, 2, 0)))\n",
        "    plt.show()\n",
        "\n",
        "\n",
        "# get some random training images\n",
        "dataiter = iter(trainloader)\n",
        "images, labels = next(dataiter)\n",
        "\n",
        "# show images\n",
        "imshow(torchvision.utils.make_grid(images))\n",
        "# print labels\n",
        "print(' '.join(f'{classes[labels[j]]:5s}' for j in range(batch_size)))"
      ],
      "metadata": {
        "colab": {
          "base_uri": "https://localhost:8080/",
          "height": 211
        },
        "id": "9_ZdDNCRuKph",
        "outputId": "1014daef-f851-4dad-e185-1e8abf992453"
      },
      "execution_count": 3,
      "outputs": [
        {
          "output_type": "display_data",
          "data": {
            "text/plain": [
              "<Figure size 640x480 with 1 Axes>"
            ],
            "image/png": "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\n"
          },
          "metadata": {}
        },
        {
          "output_type": "stream",
          "name": "stdout",
          "text": [
            "horse ship  bird  truck\n"
          ]
        }
      ]
    },
    {
      "cell_type": "code",
      "source": [
        "import torch.nn as nn\n",
        "import torch.nn.functional as F\n",
        "\n",
        "\n",
        "class Net(nn.Module):\n",
        "    def __init__(self):\n",
        "        super().__init__()\n",
        "        # Convolutional Layers\n",
        "        self.conv1 = nn.Conv2d(3, 6, 5) # Input channels 3 (for RGB CIFAR10), output channels 6, kernel 5x5\n",
        "        self.bn1 = nn.BatchNorm2d(6)    # Batch Normalization after conv1. Number of features matches out_channels of conv1\n",
        "\n",
        "        self.pool = nn.MaxPool2d(2, 2)  # Max Pooling layer\n",
        "\n",
        "        self.conv2 = nn.Conv2d(6, 16, 5) # Input channels 6 (from conv1 output), output channels 16, kernel 5x5\n",
        "        self.bn2 = nn.BatchNorm2d(16)   # Batch Normalization after conv2. Number of features matches out_channels of conv2\n",
        "\n",
        "        # Fully Connected Layers\n",
        "        # The input size for fc1 is calculated: (image_size - kernel + 2*padding)/stride + 1\n",
        "        # After conv1 (32x32 -> 28x28), after pool (28x28 -> 14x14)\n",
        "        # After conv2 (14x14 -> 10x10), after pool (10x10 -> 5x5)\n",
        "        # So, 16 channels * 5 * 5 pixels = 400 features\n",
        "        self.fc1 = nn.Linear(16 * 5 * 5, 120)\n",
        "        self.fc2 = nn.Linear(120, 84)\n",
        "        self.fc3 = nn.Linear(84, 10) # 10 output classes for CIFAR10\n",
        "\n",
        "        # Dropout layers for regularization\n",
        "        self.dropout1 = nn.Dropout(p=0.25) # Common to put after pooling/before flattening, or in linear stack\n",
        "        self.dropout2 = nn.Dropout(p=0.5)  # Another dropout in the linear stack\n",
        "\n",
        "    def forward(self, x):\n",
        "        # First Conv -> BatchNorm -> ReLU -> Pool block\n",
        "        x = self.conv1(x)\n",
        "        x = self.bn1(x)\n",
        "        x = F.relu(x)\n",
        "        x = self.pool(x)\n",
        "\n",
        "        # Second Conv -> BatchNorm -> ReLU -> Pool block\n",
        "        x = self.conv2(x)\n",
        "        x = self.bn2(x)\n",
        "        x = F.relu(x)\n",
        "        x = self.pool(x)\n",
        "\n",
        "        # Flatten all dimensions except batch\n",
        "        x = torch.flatten(x, 1)\n",
        "\n",
        "        # Dropout after flattening (optional, but can be helpful)\n",
        "        x = self.dropout1(x)\n",
        "\n",
        "        # First Linear -> ReLU\n",
        "        x = self.fc1(x)\n",
        "        x = F.relu(x)\n",
        "\n",
        "        # Second Linear -> Dropout -> ReLU\n",
        "        x = self.fc2(x)\n",
        "        x = self.dropout2(x) # Dropout in the linear stack\n",
        "        x = F.relu(x)\n",
        "\n",
        "        # Final Linear layer (output layer, no activation here for CrossEntropyLoss)\n",
        "        x = self.fc3(x)\n",
        "        return x\n",
        "\n",
        "# Re-instantiate your model after modifying the class\n",
        "net = Net()\n",
        "\n",
        "# IMPORTANT: If you are using a GPU in Colab, move the model to the GPU\n",
        "device = torch.device(\"cuda:0\" if torch.cuda.is_available() else \"cpu\")\n",
        "net.to(device)\n",
        "\n",
        "print(net) # Print the model architecture to see the new layers"
      ],
      "metadata": {
        "id": "bA6vjyWuugPZ",
        "colab": {
          "base_uri": "https://localhost:8080/"
        },
        "outputId": "92210edf-bbd2-465a-bb1d-95aa22f3a873"
      },
      "execution_count": 4,
      "outputs": [
        {
          "output_type": "stream",
          "name": "stdout",
          "text": [
            "Net(\n",
            "  (conv1): Conv2d(3, 6, kernel_size=(5, 5), stride=(1, 1))\n",
            "  (bn1): BatchNorm2d(6, eps=1e-05, momentum=0.1, affine=True, track_running_stats=True)\n",
            "  (pool): MaxPool2d(kernel_size=2, stride=2, padding=0, dilation=1, ceil_mode=False)\n",
            "  (conv2): Conv2d(6, 16, kernel_size=(5, 5), stride=(1, 1))\n",
            "  (bn2): BatchNorm2d(16, eps=1e-05, momentum=0.1, affine=True, track_running_stats=True)\n",
            "  (fc1): Linear(in_features=400, out_features=120, bias=True)\n",
            "  (fc2): Linear(in_features=120, out_features=84, bias=True)\n",
            "  (fc3): Linear(in_features=84, out_features=10, bias=True)\n",
            "  (dropout1): Dropout(p=0.25, inplace=False)\n",
            "  (dropout2): Dropout(p=0.5, inplace=False)\n",
            ")\n"
          ]
        }
      ]
    },
    {
      "cell_type": "code",
      "source": [
        "import torch.optim as optim\n",
        "criterion = nn.CrossEntropyLoss()\n",
        "optimizer = optim.SGD(net.parameters(), lr=0.001, momentum=0.9)"
      ],
      "metadata": {
        "id": "MTrw5oUwurRh"
      },
      "execution_count": 5,
      "outputs": []
    },
    {
      "cell_type": "code",
      "source": [
        "for epoch in range(2):  # loop over the dataset multiple times\n",
        "\n",
        "    running_loss = 0.0\n",
        "    for i, data in enumerate(trainloader, 0):\n",
        "        # get the inputs; data is a list of [inputs, labels]\n",
        "        inputs, labels = data\n",
        "        inputs, labels = inputs.to(device), labels.to(device)  # Move data to GPU\n",
        "\n",
        "        # zero the parameter gradients\n",
        "        optimizer.zero_grad()\n",
        "\n",
        "        # forward + backward + optimize\n",
        "        outputs = net(inputs)\n",
        "        loss = criterion(outputs, labels)\n",
        "        loss.backward()\n",
        "        optimizer.step()\n",
        "\n",
        "        # print statistics\n",
        "        running_loss += loss.item()\n",
        "        if i % 2000 == 1999:    # print every 2000 mini-batches\n",
        "            print(f'[{epoch + 1}, {i + 1:5d}] loss: {running_loss / 2000:.3f}')\n",
        "            running_loss = 0.0\n",
        "\n",
        "print('Finished Training')"
      ],
      "metadata": {
        "colab": {
          "base_uri": "https://localhost:8080/",
          "height": 375
        },
        "id": "s8rG5chTuyAB",
        "outputId": "dd172404-ce0e-4d34-f9e3-28ecbe23e2d4"
      },
      "execution_count": 7,
      "outputs": [
        {
          "output_type": "error",
          "ename": "RuntimeError",
          "evalue": "Input type (torch.FloatTensor) and weight type (torch.cuda.FloatTensor) should be the same or input should be a MKLDNN tensor and weight is a dense tensor",
          "traceback": [
            "\u001b[0;31m---------------------------------------------------------------------------\u001b[0m",
            "\u001b[0;31mRuntimeError\u001b[0m                              Traceback (most recent call last)",
            "\u001b[0;32m/tmp/ipython-input-7-663870836.py\u001b[0m in \u001b[0;36m<cell line: 0>\u001b[0;34m()\u001b[0m\n\u001b[1;32m     10\u001b[0m \u001b[0;34m\u001b[0m\u001b[0m\n\u001b[1;32m     11\u001b[0m         \u001b[0;31m# forward + backward + optimize\u001b[0m\u001b[0;34m\u001b[0m\u001b[0;34m\u001b[0m\u001b[0m\n\u001b[0;32m---> 12\u001b[0;31m         \u001b[0moutputs\u001b[0m \u001b[0;34m=\u001b[0m \u001b[0mnet\u001b[0m\u001b[0;34m(\u001b[0m\u001b[0minputs\u001b[0m\u001b[0;34m)\u001b[0m\u001b[0;34m\u001b[0m\u001b[0;34m\u001b[0m\u001b[0m\n\u001b[0m\u001b[1;32m     13\u001b[0m         \u001b[0mloss\u001b[0m \u001b[0;34m=\u001b[0m \u001b[0mcriterion\u001b[0m\u001b[0;34m(\u001b[0m\u001b[0moutputs\u001b[0m\u001b[0;34m,\u001b[0m \u001b[0mlabels\u001b[0m\u001b[0;34m)\u001b[0m\u001b[0;34m\u001b[0m\u001b[0;34m\u001b[0m\u001b[0m\n\u001b[1;32m     14\u001b[0m         \u001b[0mloss\u001b[0m\u001b[0;34m.\u001b[0m\u001b[0mbackward\u001b[0m\u001b[0;34m(\u001b[0m\u001b[0;34m)\u001b[0m\u001b[0;34m\u001b[0m\u001b[0;34m\u001b[0m\u001b[0m\n",
            "\u001b[0;32m/usr/local/lib/python3.11/dist-packages/torch/nn/modules/module.py\u001b[0m in \u001b[0;36m_wrapped_call_impl\u001b[0;34m(self, *args, **kwargs)\u001b[0m\n\u001b[1;32m   1737\u001b[0m             \u001b[0;32mreturn\u001b[0m \u001b[0mself\u001b[0m\u001b[0;34m.\u001b[0m\u001b[0m_compiled_call_impl\u001b[0m\u001b[0;34m(\u001b[0m\u001b[0;34m*\u001b[0m\u001b[0margs\u001b[0m\u001b[0;34m,\u001b[0m \u001b[0;34m**\u001b[0m\u001b[0mkwargs\u001b[0m\u001b[0;34m)\u001b[0m  \u001b[0;31m# type: ignore[misc]\u001b[0m\u001b[0;34m\u001b[0m\u001b[0;34m\u001b[0m\u001b[0m\n\u001b[1;32m   1738\u001b[0m         \u001b[0;32melse\u001b[0m\u001b[0;34m:\u001b[0m\u001b[0;34m\u001b[0m\u001b[0;34m\u001b[0m\u001b[0m\n\u001b[0;32m-> 1739\u001b[0;31m             \u001b[0;32mreturn\u001b[0m \u001b[0mself\u001b[0m\u001b[0;34m.\u001b[0m\u001b[0m_call_impl\u001b[0m\u001b[0;34m(\u001b[0m\u001b[0;34m*\u001b[0m\u001b[0margs\u001b[0m\u001b[0;34m,\u001b[0m \u001b[0;34m**\u001b[0m\u001b[0mkwargs\u001b[0m\u001b[0;34m)\u001b[0m\u001b[0;34m\u001b[0m\u001b[0;34m\u001b[0m\u001b[0m\n\u001b[0m\u001b[1;32m   1740\u001b[0m \u001b[0;34m\u001b[0m\u001b[0m\n\u001b[1;32m   1741\u001b[0m     \u001b[0;31m# torchrec tests the code consistency with the following code\u001b[0m\u001b[0;34m\u001b[0m\u001b[0;34m\u001b[0m\u001b[0m\n",
            "\u001b[0;32m/usr/local/lib/python3.11/dist-packages/torch/nn/modules/module.py\u001b[0m in \u001b[0;36m_call_impl\u001b[0;34m(self, *args, **kwargs)\u001b[0m\n\u001b[1;32m   1748\u001b[0m                 \u001b[0;32mor\u001b[0m \u001b[0m_global_backward_pre_hooks\u001b[0m \u001b[0;32mor\u001b[0m \u001b[0m_global_backward_hooks\u001b[0m\u001b[0;34m\u001b[0m\u001b[0;34m\u001b[0m\u001b[0m\n\u001b[1;32m   1749\u001b[0m                 or _global_forward_hooks or _global_forward_pre_hooks):\n\u001b[0;32m-> 1750\u001b[0;31m             \u001b[0;32mreturn\u001b[0m \u001b[0mforward_call\u001b[0m\u001b[0;34m(\u001b[0m\u001b[0;34m*\u001b[0m\u001b[0margs\u001b[0m\u001b[0;34m,\u001b[0m \u001b[0;34m**\u001b[0m\u001b[0mkwargs\u001b[0m\u001b[0;34m)\u001b[0m\u001b[0;34m\u001b[0m\u001b[0;34m\u001b[0m\u001b[0m\n\u001b[0m\u001b[1;32m   1751\u001b[0m \u001b[0;34m\u001b[0m\u001b[0m\n\u001b[1;32m   1752\u001b[0m         \u001b[0mresult\u001b[0m \u001b[0;34m=\u001b[0m \u001b[0;32mNone\u001b[0m\u001b[0;34m\u001b[0m\u001b[0;34m\u001b[0m\u001b[0m\n",
            "\u001b[0;32m/tmp/ipython-input-4-2836847284.py\u001b[0m in \u001b[0;36mforward\u001b[0;34m(self, x)\u001b[0m\n\u001b[1;32m     30\u001b[0m     \u001b[0;32mdef\u001b[0m \u001b[0mforward\u001b[0m\u001b[0;34m(\u001b[0m\u001b[0mself\u001b[0m\u001b[0;34m,\u001b[0m \u001b[0mx\u001b[0m\u001b[0;34m)\u001b[0m\u001b[0;34m:\u001b[0m\u001b[0;34m\u001b[0m\u001b[0;34m\u001b[0m\u001b[0m\n\u001b[1;32m     31\u001b[0m         \u001b[0;31m# First Conv -> BatchNorm -> ReLU -> Pool block\u001b[0m\u001b[0;34m\u001b[0m\u001b[0;34m\u001b[0m\u001b[0m\n\u001b[0;32m---> 32\u001b[0;31m         \u001b[0mx\u001b[0m \u001b[0;34m=\u001b[0m \u001b[0mself\u001b[0m\u001b[0;34m.\u001b[0m\u001b[0mconv1\u001b[0m\u001b[0;34m(\u001b[0m\u001b[0mx\u001b[0m\u001b[0;34m)\u001b[0m\u001b[0;34m\u001b[0m\u001b[0;34m\u001b[0m\u001b[0m\n\u001b[0m\u001b[1;32m     33\u001b[0m         \u001b[0mx\u001b[0m \u001b[0;34m=\u001b[0m \u001b[0mself\u001b[0m\u001b[0;34m.\u001b[0m\u001b[0mbn1\u001b[0m\u001b[0;34m(\u001b[0m\u001b[0mx\u001b[0m\u001b[0;34m)\u001b[0m\u001b[0;34m\u001b[0m\u001b[0;34m\u001b[0m\u001b[0m\n\u001b[1;32m     34\u001b[0m         \u001b[0mx\u001b[0m \u001b[0;34m=\u001b[0m \u001b[0mF\u001b[0m\u001b[0;34m.\u001b[0m\u001b[0mrelu\u001b[0m\u001b[0;34m(\u001b[0m\u001b[0mx\u001b[0m\u001b[0;34m)\u001b[0m\u001b[0;34m\u001b[0m\u001b[0;34m\u001b[0m\u001b[0m\n",
            "\u001b[0;32m/usr/local/lib/python3.11/dist-packages/torch/nn/modules/module.py\u001b[0m in \u001b[0;36m_wrapped_call_impl\u001b[0;34m(self, *args, **kwargs)\u001b[0m\n\u001b[1;32m   1737\u001b[0m             \u001b[0;32mreturn\u001b[0m \u001b[0mself\u001b[0m\u001b[0;34m.\u001b[0m\u001b[0m_compiled_call_impl\u001b[0m\u001b[0;34m(\u001b[0m\u001b[0;34m*\u001b[0m\u001b[0margs\u001b[0m\u001b[0;34m,\u001b[0m \u001b[0;34m**\u001b[0m\u001b[0mkwargs\u001b[0m\u001b[0;34m)\u001b[0m  \u001b[0;31m# type: ignore[misc]\u001b[0m\u001b[0;34m\u001b[0m\u001b[0;34m\u001b[0m\u001b[0m\n\u001b[1;32m   1738\u001b[0m         \u001b[0;32melse\u001b[0m\u001b[0;34m:\u001b[0m\u001b[0;34m\u001b[0m\u001b[0;34m\u001b[0m\u001b[0m\n\u001b[0;32m-> 1739\u001b[0;31m             \u001b[0;32mreturn\u001b[0m \u001b[0mself\u001b[0m\u001b[0;34m.\u001b[0m\u001b[0m_call_impl\u001b[0m\u001b[0;34m(\u001b[0m\u001b[0;34m*\u001b[0m\u001b[0margs\u001b[0m\u001b[0;34m,\u001b[0m \u001b[0;34m**\u001b[0m\u001b[0mkwargs\u001b[0m\u001b[0;34m)\u001b[0m\u001b[0;34m\u001b[0m\u001b[0;34m\u001b[0m\u001b[0m\n\u001b[0m\u001b[1;32m   1740\u001b[0m \u001b[0;34m\u001b[0m\u001b[0m\n\u001b[1;32m   1741\u001b[0m     \u001b[0;31m# torchrec tests the code consistency with the following code\u001b[0m\u001b[0;34m\u001b[0m\u001b[0;34m\u001b[0m\u001b[0m\n",
            "\u001b[0;32m/usr/local/lib/python3.11/dist-packages/torch/nn/modules/module.py\u001b[0m in \u001b[0;36m_call_impl\u001b[0;34m(self, *args, **kwargs)\u001b[0m\n\u001b[1;32m   1748\u001b[0m                 \u001b[0;32mor\u001b[0m \u001b[0m_global_backward_pre_hooks\u001b[0m \u001b[0;32mor\u001b[0m \u001b[0m_global_backward_hooks\u001b[0m\u001b[0;34m\u001b[0m\u001b[0;34m\u001b[0m\u001b[0m\n\u001b[1;32m   1749\u001b[0m                 or _global_forward_hooks or _global_forward_pre_hooks):\n\u001b[0;32m-> 1750\u001b[0;31m             \u001b[0;32mreturn\u001b[0m \u001b[0mforward_call\u001b[0m\u001b[0;34m(\u001b[0m\u001b[0;34m*\u001b[0m\u001b[0margs\u001b[0m\u001b[0;34m,\u001b[0m \u001b[0;34m**\u001b[0m\u001b[0mkwargs\u001b[0m\u001b[0;34m)\u001b[0m\u001b[0;34m\u001b[0m\u001b[0;34m\u001b[0m\u001b[0m\n\u001b[0m\u001b[1;32m   1751\u001b[0m \u001b[0;34m\u001b[0m\u001b[0m\n\u001b[1;32m   1752\u001b[0m         \u001b[0mresult\u001b[0m \u001b[0;34m=\u001b[0m \u001b[0;32mNone\u001b[0m\u001b[0;34m\u001b[0m\u001b[0;34m\u001b[0m\u001b[0m\n",
            "\u001b[0;32m/usr/local/lib/python3.11/dist-packages/torch/nn/modules/conv.py\u001b[0m in \u001b[0;36mforward\u001b[0;34m(self, input)\u001b[0m\n\u001b[1;32m    552\u001b[0m \u001b[0;34m\u001b[0m\u001b[0m\n\u001b[1;32m    553\u001b[0m     \u001b[0;32mdef\u001b[0m \u001b[0mforward\u001b[0m\u001b[0;34m(\u001b[0m\u001b[0mself\u001b[0m\u001b[0;34m,\u001b[0m \u001b[0minput\u001b[0m\u001b[0;34m:\u001b[0m \u001b[0mTensor\u001b[0m\u001b[0;34m)\u001b[0m \u001b[0;34m->\u001b[0m \u001b[0mTensor\u001b[0m\u001b[0;34m:\u001b[0m\u001b[0;34m\u001b[0m\u001b[0;34m\u001b[0m\u001b[0m\n\u001b[0;32m--> 554\u001b[0;31m         \u001b[0;32mreturn\u001b[0m \u001b[0mself\u001b[0m\u001b[0;34m.\u001b[0m\u001b[0m_conv_forward\u001b[0m\u001b[0;34m(\u001b[0m\u001b[0minput\u001b[0m\u001b[0;34m,\u001b[0m \u001b[0mself\u001b[0m\u001b[0;34m.\u001b[0m\u001b[0mweight\u001b[0m\u001b[0;34m,\u001b[0m \u001b[0mself\u001b[0m\u001b[0;34m.\u001b[0m\u001b[0mbias\u001b[0m\u001b[0;34m)\u001b[0m\u001b[0;34m\u001b[0m\u001b[0;34m\u001b[0m\u001b[0m\n\u001b[0m\u001b[1;32m    555\u001b[0m \u001b[0;34m\u001b[0m\u001b[0m\n\u001b[1;32m    556\u001b[0m \u001b[0;34m\u001b[0m\u001b[0m\n",
            "\u001b[0;32m/usr/local/lib/python3.11/dist-packages/torch/nn/modules/conv.py\u001b[0m in \u001b[0;36m_conv_forward\u001b[0;34m(self, input, weight, bias)\u001b[0m\n\u001b[1;32m    547\u001b[0m                 \u001b[0mself\u001b[0m\u001b[0;34m.\u001b[0m\u001b[0mgroups\u001b[0m\u001b[0;34m,\u001b[0m\u001b[0;34m\u001b[0m\u001b[0;34m\u001b[0m\u001b[0m\n\u001b[1;32m    548\u001b[0m             )\n\u001b[0;32m--> 549\u001b[0;31m         return F.conv2d(\n\u001b[0m\u001b[1;32m    550\u001b[0m             \u001b[0minput\u001b[0m\u001b[0;34m,\u001b[0m \u001b[0mweight\u001b[0m\u001b[0;34m,\u001b[0m \u001b[0mbias\u001b[0m\u001b[0;34m,\u001b[0m \u001b[0mself\u001b[0m\u001b[0;34m.\u001b[0m\u001b[0mstride\u001b[0m\u001b[0;34m,\u001b[0m \u001b[0mself\u001b[0m\u001b[0;34m.\u001b[0m\u001b[0mpadding\u001b[0m\u001b[0;34m,\u001b[0m \u001b[0mself\u001b[0m\u001b[0;34m.\u001b[0m\u001b[0mdilation\u001b[0m\u001b[0;34m,\u001b[0m \u001b[0mself\u001b[0m\u001b[0;34m.\u001b[0m\u001b[0mgroups\u001b[0m\u001b[0;34m\u001b[0m\u001b[0;34m\u001b[0m\u001b[0m\n\u001b[1;32m    551\u001b[0m         )\n",
            "\u001b[0;31mRuntimeError\u001b[0m: Input type (torch.FloatTensor) and weight type (torch.cuda.FloatTensor) should be the same or input should be a MKLDNN tensor and weight is a dense tensor"
          ]
        }
      ]
    },
    {
      "cell_type": "code",
      "source": [
        "PATH = './cifar_net.pth'\n",
        "torch.save(net.state_dict(), PATH)"
      ],
      "metadata": {
        "id": "1RToEdSCvRFm"
      },
      "execution_count": null,
      "outputs": []
    },
    {
      "cell_type": "code",
      "source": [
        "dataiter = iter(testloader)\n",
        "images, labels = next(dataiter)\n",
        "images, labels = images.to(device), labels.to(device)  # Move data to GPU\n",
        "\n",
        "# print images (move back to CPU for display)\n",
        "imshow(torchvision.utils.make_grid(images.cpu()))\n",
        "print('GroundTruth: ', ' '.join(f'{classes[labels[j]]:5s}' for j in range(4)))"
      ],
      "metadata": {
        "id": "UOHiNa_dvR1B"
      },
      "execution_count": null,
      "outputs": []
    },
    {
      "cell_type": "code",
      "source": [
        "net = Net()\n",
        "net.load_state_dict(torch.load(PATH, weights_only=True))"
      ],
      "metadata": {
        "id": "gO_vB61lvX3W"
      },
      "execution_count": null,
      "outputs": []
    },
    {
      "cell_type": "code",
      "source": [
        "outputs = net(images)"
      ],
      "metadata": {
        "id": "T-H1vZ_uvaTr"
      },
      "execution_count": null,
      "outputs": []
    },
    {
      "cell_type": "code",
      "source": [
        "_, predicted = torch.max(outputs, 1)\n",
        "\n",
        "print('Predicted: ', ' '.join(f'{classes[predicted[j]]:5s}'\n",
        "                              for j in range(4)))"
      ],
      "metadata": {
        "id": "X3hdnH-Fvdf-"
      },
      "execution_count": null,
      "outputs": []
    },
    {
      "cell_type": "code",
      "source": [
        "correct = 0\n",
        "total = 0\n",
        "# since we're not training, we don't need to calculate the gradients for our outputs\n",
        "with torch.no_grad():\n",
        "    for data in testloader:\n",
        "        images, labels = data\n",
        "        images, labels = images.to(device), labels.to(device)  # Move data to GPU\n",
        "        # calculate outputs by running images through the network\n",
        "        outputs = net(images)\n",
        "        # the class with the highest energy is what we choose as prediction\n",
        "        _, predicted = torch.max(outputs, 1)\n",
        "        total += labels.size(0)\n",
        "        correct += (predicted == labels).sum().item()\n",
        "\n",
        "print(f'Accuracy of the network on the 10000 test images: {100 * correct // total} %')"
      ],
      "metadata": {
        "id": "0U5Flsocvg_Q"
      },
      "execution_count": null,
      "outputs": []
    },
    {
      "cell_type": "code",
      "source": [
        "# prepare to count predictions for each class\n",
        "correct_pred = {classname: 0 for classname in classes}\n",
        "total_pred = {classname: 0 for classname in classes}\n",
        "\n",
        "# again no gradients needed\n",
        "with torch.no_grad():\n",
        "    for data in testloader:\n",
        "        images, labels = data\n",
        "        images, labels = images.to(device), labels.to(device)  # Move data to GPU\n",
        "        outputs = net(images)\n",
        "        _, predictions = torch.max(outputs, 1)\n",
        "        # collect the correct predictions for each class\n",
        "        for label, prediction in zip(labels, predictions):\n",
        "            if label == prediction:\n",
        "                correct_pred[classes[label]] += 1\n",
        "            total_pred[classes[label]] += 1"
        "\n",
        "\n",
        "# print accuracy for each class\n",
        "for classname, correct_count in correct_pred.items():\n",
        "    accuracy = 100 * float(correct_count) / total_pred[classname]\n",
        "    print(f'Accuracy for class: {classname:5s} is {accuracy:.1f} %')"
      ],
      "metadata": {
        "id": "hLTXTwgXvpB4"
      },
      "execution_count": null,
      "outputs": []
    },
    {
      "cell_type": "code",
      "source": [],
      "metadata": {
        "id": "1JyMK_ORv1bA"
      },
      "execution_count": null,
      "outputs": []
    },
    {
      "cell_type": "code",
      "source": [],
      "metadata": {
        "id": "ogFzCeaVYAvg"
      },
      "execution_count": null,
      "outputs": []
    }
  ]
}